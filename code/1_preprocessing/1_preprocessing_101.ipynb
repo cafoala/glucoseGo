{
 "cells": [
  {
   "attachments": {},
   "cell_type": "markdown",
   "id": "3afa0472-f5ae-432c-a203-6fde6ed09ed0",
   "metadata": {
    "tags": []
   },
   "source": [
    "# 1. Preprocessing of EXTOD 101 for ML "
   ]
  },
  {
   "attachments": {},
   "cell_type": "markdown",
   "id": "4aac10f5-4f2f-45c1-8954-6075e6df1540",
   "metadata": {},
   "source": [
    "The goal of this notebook is to prepare the EXTOD 101 data for machine learning - predicting euglycemia during and around exercise.\n",
    "\n",
    "EXTOD (Exercise in Type One Diabetes) 101 was a trial looking into the glucose control of indivuals with T1D training for the Swansea half marathon. There was around 35 people with 8 weeks worth of FreeStyle Libre data and exercise diaries recording their exercise bouts. There is also demographic data (including age, BMI, years since diagnosis) and lab data (including HbA1c, Cpeptide).\n",
    "\n",
    "### Objectives\n",
    "1. Clean and combine the exercise diaries\n",
    "2. Preprocess demographic data\n",
    "3. Preprcoess lab data\n",
    "4. Prepare FGM data"
   ]
  },
  {
   "attachments": {},
   "cell_type": "markdown",
   "id": "361d677d-33ec-44b0-a902-7a8534f25ab7",
   "metadata": {},
   "source": [
    "## 1.0. Import packages"
   ]
  },
  {
   "cell_type": "code",
   "execution_count": 2,
   "id": "a47d9183-3a14-41e8-967b-46914be22fe3",
   "metadata": {},
   "outputs": [],
   "source": [
    "# Import packages\n",
    "import pandas as pd\n",
    "import numpy as np\n",
    "from datetime import datetime as dt\n",
    "import datetime\n",
    "from functools import reduce\n",
    "import os\n",
    "import preprocess_helper"
   ]
  },
  {
   "cell_type": "code",
   "execution_count": 3,
   "id": "de94a321-5b11-4bfe-87e5-cc8ad0fb4b27",
   "metadata": {},
   "outputs": [],
   "source": [
    "# Set directories for data\n",
    "directory_cgm = '../../data/raw_data/extod_101/cgm_data/'\n",
    "directory_diaries = '../../data/raw_data/extod_101/diary_data/'\n",
    "directory_demo_lab = '../../data/raw_data/extod_101/'"
   ]
  },
  {
   "attachments": {},
   "cell_type": "markdown",
   "id": "8d24940c-7e5d-4999-95ce-5997a791adab",
   "metadata": {
    "tags": []
   },
   "source": [
    "## 1.1. Clean and combine exercise diaries"
   ]
  },
  {
   "attachments": {},
   "cell_type": "markdown",
   "id": "cf35d8be-8772-4293-bfb3-08a0e2262fff",
   "metadata": {},
   "source": [
    "### 1.1.2. Combine dataframes"
   ]
  },
  {
   "cell_type": "code",
   "execution_count": 4,
   "id": "991c1e8d",
   "metadata": {},
   "outputs": [],
   "source": [
    "dropped_date = 0"
   ]
  },
  {
   "cell_type": "code",
   "execution_count": 5,
   "id": "86c31f43-e3df-4be3-87d4-8d56a9745b49",
   "metadata": {
    "scrolled": true
   },
   "outputs": [],
   "source": [
    "# Empty dataframe\n",
    "ex_df = pd.DataFrame()\n",
    "# Loop through all exercise diaries\n",
    "for filename in os.listdir(directory_diaries):\n",
    "    filepath = directory_diaries + filename\n",
    "    df = pd.read_excel(filepath, sheet_name=0).append(pd.read_excel(filepath, sheet_name=1))\n",
    "    # Split the two side-by-side dfs and join them\n",
    "    df = preprocess_helper.clean_diaries(df)\n",
    "    # Set id as first 4 characters of \n",
    "    df['ID'] = filename[:4]\n",
    "    # Fix any dodgy times\n",
    "    df['What time']= df['What time'].apply(lambda x: preprocess_helper.check_time(x))\n",
    "    size1= df[df['Exercise']=='yes'].shape[0]\n",
    "    # Drop any instances that don't have datetime data\n",
    "    df.dropna(subset=['What time', 'Date', 'how long'], inplace=True)\n",
    "    dropped_date += (size1-df.shape[0])\n",
    "    # Combine date and time\n",
    "    df['start_datetime'] = df.apply(lambda row: pd.Timestamp.combine(row['Date'], row['What time']), axis=1)\n",
    "    # Convert duration to a float\n",
    "    #df['how long'] = df['how long'].apply(lambda x: float(x))\n",
    "    # Add duration to start time to get finish time\n",
    "    df['finish_datetime'] = df.apply(lambda x: x['start_datetime']\n",
    "                                     + datetime.timedelta(minutes=x['how long']), axis=1)\n",
    "    # Drop useless columns and reset index\n",
    "    df = df.drop(columns=['Date', 'What time', 'how long', 'Exercise'])\n",
    "    df.reset_index(drop=True,inplace=True)\n",
    "    # Append to global dataframe\n",
    "    ex_df = ex_df.append(df)"
   ]
  },
  {
   "cell_type": "code",
   "execution_count": 6,
   "id": "ae4d4eeb-5c82-4c98-9cab-c4249ac68e55",
   "metadata": {},
   "outputs": [],
   "source": [
    "# Select useful columns and rename them\n",
    "cols_to_choose = ['ID', 'start_datetime', 'finish_datetime', 'Intensity',\n",
    "                  'Type of exericse', 'Glucose before', 'Glucose After']\n",
    "diaries = ex_df.loc[:,cols_to_choose]\n",
    "diaries.columns = ['ID', 'start_datetime', 'finish_datetime', 'intensity',\n",
    "                  'type_of_exercise', 'starting_glucose', 'finishing_glucose']"
   ]
  },
  {
   "cell_type": "code",
   "execution_count": 7,
   "id": "c3abd8a0-bbd1-42d6-9d79-ac531f44925f",
   "metadata": {
    "tags": []
   },
   "outputs": [],
   "source": [
    "# Set start and finish to datetime\n",
    "diaries.start_datetime = pd.to_datetime(diaries.start_datetime)\n",
    "diaries.finish_datetime = pd.to_datetime(diaries.finish_datetime)"
   ]
  },
  {
   "cell_type": "code",
   "execution_count": 8,
   "id": "67573fc8",
   "metadata": {},
   "outputs": [
    {
     "data": {
      "text/plain": [
       "-17"
      ]
     },
     "execution_count": 8,
     "metadata": {},
     "output_type": "execute_result"
    }
   ],
   "source": [
    "dropped_date"
   ]
  },
  {
   "attachments": {},
   "cell_type": "markdown",
   "id": "8cce57d3-55e4-4fb9-9243-7295694d172c",
   "metadata": {},
   "source": [
    "### 1.1.3. Sort out dates"
   ]
  },
  {
   "cell_type": "code",
   "execution_count": 9,
   "id": "6601c1f3-d229-4846-8bb2-e173e97dac54",
   "metadata": {},
   "outputs": [],
   "source": [
    "# Get breakdown for start datetime\n",
    "diaries = preprocess_helper.date_preprocessing(diaries, 'start_datetime', False, True, True)\n",
    "# Calculate duration\n",
    "diaries['duration'] = (diaries['finish_datetime'] - diaries['start_datetime']).apply(lambda x: x.total_seconds()/60)"
   ]
  },
  {
   "cell_type": "code",
   "execution_count": 10,
   "id": "2dcc336d",
   "metadata": {},
   "outputs": [
    {
     "data": {
      "text/html": [
       "<div>\n",
       "<style scoped>\n",
       "    .dataframe tbody tr th:only-of-type {\n",
       "        vertical-align: middle;\n",
       "    }\n",
       "\n",
       "    .dataframe tbody tr th {\n",
       "        vertical-align: top;\n",
       "    }\n",
       "\n",
       "    .dataframe thead th {\n",
       "        text-align: right;\n",
       "    }\n",
       "</style>\n",
       "<table border=\"1\" class=\"dataframe\">\n",
       "  <thead>\n",
       "    <tr style=\"text-align: right;\">\n",
       "      <th></th>\n",
       "      <th>ID</th>\n",
       "      <th>start_datetime</th>\n",
       "      <th>finish_datetime</th>\n",
       "      <th>intensity</th>\n",
       "      <th>type_of_exercise</th>\n",
       "      <th>starting_glucose</th>\n",
       "      <th>finishing_glucose</th>\n",
       "      <th>month</th>\n",
       "      <th>day</th>\n",
       "      <th>day_of_week</th>\n",
       "      <th>time_of_day</th>\n",
       "      <th>duration</th>\n",
       "    </tr>\n",
       "  </thead>\n",
       "  <tbody>\n",
       "    <tr>\n",
       "      <th>0</th>\n",
       "      <td>3039</td>\n",
       "      <td>2018-05-13 09:00:00</td>\n",
       "      <td>2018-05-13 16:00:00</td>\n",
       "      <td>17.0</td>\n",
       "      <td>walk</td>\n",
       "      <td>11.0</td>\n",
       "      <td>13.0</td>\n",
       "      <td>5</td>\n",
       "      <td>13</td>\n",
       "      <td>6</td>\n",
       "      <td>morning</td>\n",
       "      <td>420.0</td>\n",
       "    </tr>\n",
       "    <tr>\n",
       "      <th>1</th>\n",
       "      <td>3039</td>\n",
       "      <td>2018-05-19 09:00:00</td>\n",
       "      <td>2018-05-19 09:28:00</td>\n",
       "      <td>12.0</td>\n",
       "      <td>run</td>\n",
       "      <td>12.0</td>\n",
       "      <td>7.0</td>\n",
       "      <td>5</td>\n",
       "      <td>19</td>\n",
       "      <td>5</td>\n",
       "      <td>morning</td>\n",
       "      <td>28.0</td>\n",
       "    </tr>\n",
       "    <tr>\n",
       "      <th>2</th>\n",
       "      <td>3039</td>\n",
       "      <td>2018-05-22 18:00:00</td>\n",
       "      <td>2018-05-22 19:17:00</td>\n",
       "      <td>13.0</td>\n",
       "      <td>run</td>\n",
       "      <td>13.0</td>\n",
       "      <td>7.0</td>\n",
       "      <td>5</td>\n",
       "      <td>22</td>\n",
       "      <td>1</td>\n",
       "      <td>evening</td>\n",
       "      <td>77.0</td>\n",
       "    </tr>\n",
       "    <tr>\n",
       "      <th>3</th>\n",
       "      <td>3039</td>\n",
       "      <td>2018-05-28 09:30:00</td>\n",
       "      <td>2018-05-28 10:33:00</td>\n",
       "      <td>17.0</td>\n",
       "      <td>run</td>\n",
       "      <td>11.0</td>\n",
       "      <td>13.0</td>\n",
       "      <td>5</td>\n",
       "      <td>28</td>\n",
       "      <td>0</td>\n",
       "      <td>morning</td>\n",
       "      <td>63.0</td>\n",
       "    </tr>\n",
       "    <tr>\n",
       "      <th>4</th>\n",
       "      <td>3039</td>\n",
       "      <td>2018-05-31 17:00:00</td>\n",
       "      <td>2018-05-31 18:30:00</td>\n",
       "      <td>15.0</td>\n",
       "      <td>weights</td>\n",
       "      <td>9.0</td>\n",
       "      <td>5.0</td>\n",
       "      <td>5</td>\n",
       "      <td>31</td>\n",
       "      <td>3</td>\n",
       "      <td>afternoon</td>\n",
       "      <td>90.0</td>\n",
       "    </tr>\n",
       "    <tr>\n",
       "      <th>...</th>\n",
       "      <td>...</td>\n",
       "      <td>...</td>\n",
       "      <td>...</td>\n",
       "      <td>...</td>\n",
       "      <td>...</td>\n",
       "      <td>...</td>\n",
       "      <td>...</td>\n",
       "      <td>...</td>\n",
       "      <td>...</td>\n",
       "      <td>...</td>\n",
       "      <td>...</td>\n",
       "      <td>...</td>\n",
       "    </tr>\n",
       "    <tr>\n",
       "      <th>23</th>\n",
       "      <td>3005</td>\n",
       "      <td>2018-06-30 07:30:00</td>\n",
       "      <td>2018-06-30 11:00:00</td>\n",
       "      <td>11.0</td>\n",
       "      <td>cycle-run-cycle</td>\n",
       "      <td>8.4</td>\n",
       "      <td>4.9</td>\n",
       "      <td>6</td>\n",
       "      <td>30</td>\n",
       "      <td>5</td>\n",
       "      <td>morning</td>\n",
       "      <td>210.0</td>\n",
       "    </tr>\n",
       "    <tr>\n",
       "      <th>24</th>\n",
       "      <td>3005</td>\n",
       "      <td>2018-07-02 20:00:00</td>\n",
       "      <td>2018-07-02 20:55:00</td>\n",
       "      <td>10.0</td>\n",
       "      <td>run</td>\n",
       "      <td>10.2</td>\n",
       "      <td>4.5</td>\n",
       "      <td>7</td>\n",
       "      <td>2</td>\n",
       "      <td>0</td>\n",
       "      <td>evening</td>\n",
       "      <td>55.0</td>\n",
       "    </tr>\n",
       "    <tr>\n",
       "      <th>25</th>\n",
       "      <td>3005</td>\n",
       "      <td>2018-07-03 19:00:00</td>\n",
       "      <td>2018-07-03 20:00:00</td>\n",
       "      <td>16.0</td>\n",
       "      <td>run</td>\n",
       "      <td>7.0</td>\n",
       "      <td>7.5</td>\n",
       "      <td>7</td>\n",
       "      <td>3</td>\n",
       "      <td>1</td>\n",
       "      <td>evening</td>\n",
       "      <td>60.0</td>\n",
       "    </tr>\n",
       "    <tr>\n",
       "      <th>26</th>\n",
       "      <td>3005</td>\n",
       "      <td>2018-07-04 19:00:00</td>\n",
       "      <td>2018-07-04 20:00:00</td>\n",
       "      <td>12.0</td>\n",
       "      <td>run</td>\n",
       "      <td>5.2</td>\n",
       "      <td>3.9</td>\n",
       "      <td>7</td>\n",
       "      <td>4</td>\n",
       "      <td>2</td>\n",
       "      <td>evening</td>\n",
       "      <td>60.0</td>\n",
       "    </tr>\n",
       "    <tr>\n",
       "      <th>27</th>\n",
       "      <td>3005</td>\n",
       "      <td>2018-07-07 09:10:00</td>\n",
       "      <td>2018-07-07 09:45:00</td>\n",
       "      <td>9.0</td>\n",
       "      <td>run</td>\n",
       "      <td>11.4</td>\n",
       "      <td>10.4</td>\n",
       "      <td>7</td>\n",
       "      <td>7</td>\n",
       "      <td>5</td>\n",
       "      <td>morning</td>\n",
       "      <td>35.0</td>\n",
       "    </tr>\n",
       "  </tbody>\n",
       "</table>\n",
       "<p>779 rows × 12 columns</p>\n",
       "</div>"
      ],
      "text/plain": [
       "      ID      start_datetime     finish_datetime  intensity type_of_exercise  \\\n",
       "0   3039 2018-05-13 09:00:00 2018-05-13 16:00:00       17.0             walk   \n",
       "1   3039 2018-05-19 09:00:00 2018-05-19 09:28:00       12.0              run   \n",
       "2   3039 2018-05-22 18:00:00 2018-05-22 19:17:00       13.0              run   \n",
       "3   3039 2018-05-28 09:30:00 2018-05-28 10:33:00       17.0              run   \n",
       "4   3039 2018-05-31 17:00:00 2018-05-31 18:30:00       15.0          weights   \n",
       "..   ...                 ...                 ...        ...              ...   \n",
       "23  3005 2018-06-30 07:30:00 2018-06-30 11:00:00       11.0  cycle-run-cycle   \n",
       "24  3005 2018-07-02 20:00:00 2018-07-02 20:55:00       10.0              run   \n",
       "25  3005 2018-07-03 19:00:00 2018-07-03 20:00:00       16.0              run   \n",
       "26  3005 2018-07-04 19:00:00 2018-07-04 20:00:00       12.0              run   \n",
       "27  3005 2018-07-07 09:10:00 2018-07-07 09:45:00        9.0              run   \n",
       "\n",
       "   starting_glucose finishing_glucose  month  day  day_of_week time_of_day  \\\n",
       "0              11.0              13.0      5   13            6     morning   \n",
       "1              12.0               7.0      5   19            5     morning   \n",
       "2              13.0               7.0      5   22            1     evening   \n",
       "3              11.0              13.0      5   28            0     morning   \n",
       "4               9.0               5.0      5   31            3   afternoon   \n",
       "..              ...               ...    ...  ...          ...         ...   \n",
       "23              8.4               4.9      6   30            5     morning   \n",
       "24             10.2               4.5      7    2            0     evening   \n",
       "25              7.0               7.5      7    3            1     evening   \n",
       "26              5.2               3.9      7    4            2     evening   \n",
       "27             11.4              10.4      7    7            5     morning   \n",
       "\n",
       "    duration  \n",
       "0      420.0  \n",
       "1       28.0  \n",
       "2       77.0  \n",
       "3       63.0  \n",
       "4       90.0  \n",
       "..       ...  \n",
       "23     210.0  \n",
       "24      55.0  \n",
       "25      60.0  \n",
       "26      60.0  \n",
       "27      35.0  \n",
       "\n",
       "[779 rows x 12 columns]"
      ]
     },
     "execution_count": 10,
     "metadata": {},
     "output_type": "execute_result"
    }
   ],
   "source": [
    "diaries"
   ]
  },
  {
   "cell_type": "code",
   "execution_count": 11,
   "id": "30e79cd6-5ffd-4cc7-ab74-7f5592778403",
   "metadata": {},
   "outputs": [
    {
     "data": {
      "text/plain": [
       "(779, 12)"
      ]
     },
     "execution_count": 11,
     "metadata": {},
     "output_type": "execute_result"
    }
   ],
   "source": [
    "diaries.shape"
   ]
  },
  {
   "cell_type": "code",
   "execution_count": 12,
   "id": "e656fbf7",
   "metadata": {},
   "outputs": [],
   "source": [
    "def handle_overlaps(group):\n",
    "    # Sort by start_datetime\n",
    "    group = group.sort_values(by='start_datetime')\n",
    "    \n",
    "    non_overlapping = []\n",
    "    overlap_count = 0  # Counter to limit the number of printed overlaps\n",
    "    for _, row in group.iterrows():\n",
    "        if non_overlapping:\n",
    "            last_interval = non_overlapping[-1]\n",
    "            # Check for overlap\n",
    "            if row['start_datetime'] < last_interval['finish_datetime']:\n",
    "                # Print the overlapping intervals (limited to a few for brevity)\n",
    "                if overlap_count < 5:\n",
    "                    print(f\"Overlap detected for ID {group['ID'].iloc[0]}:\")\n",
    "                    print(f\"Interval 1: {last_interval['start_datetime']} to {last_interval['finish_datetime']}\")\n",
    "                    print(f\"Interval 2: {row['start_datetime']} to {row['finish_datetime']}\\n\")\n",
    "                    overlap_count += 1\n",
    "\n",
    "                curr_duration = (row['finish_datetime'] - row['start_datetime']).seconds / 60\n",
    "                last_duration = (last_interval['finish_datetime'] - last_interval['start_datetime']).seconds / 60\n",
    "                \n",
    "                # Decide which interval to keep\n",
    "                if (curr_duration >= 10 and curr_duration <= 120) and (last_duration < 10 or last_duration > 120):\n",
    "                    non_overlapping[-1] = row\n",
    "                elif (last_duration >= 10 and last_duration <= 120) and (curr_duration < 10 or curr_duration > 120):\n",
    "                    continue\n",
    "                elif curr_duration > last_duration:\n",
    "                    non_overlapping[-1] = row\n",
    "            else:\n",
    "                non_overlapping.append(row)\n",
    "        else:\n",
    "            non_overlapping.append(row)\n",
    "    \n",
    "    return pd.DataFrame(non_overlapping)\n",
    "\n",
    "# Apply the function to each group\n",
    "diaries = diaries.groupby('ID').apply(handle_overlaps).reset_index(drop=True)\n"
   ]
  },
  {
   "cell_type": "code",
   "execution_count": 13,
   "id": "ddf628ca",
   "metadata": {},
   "outputs": [
    {
     "data": {
      "text/plain": [
       "37"
      ]
     },
     "execution_count": 13,
     "metadata": {},
     "output_type": "execute_result"
    }
   ],
   "source": [
    "len(diaries.ID.unique())"
   ]
  },
  {
   "attachments": {},
   "cell_type": "markdown",
   "id": "545f29cc-a9f9-4afc-9302-39b880b20aa7",
   "metadata": {},
   "source": [
    "### 1.1.4. Categorise exercise types"
   ]
  },
  {
   "cell_type": "code",
   "execution_count": 13,
   "id": "dae480f1-e609-4b1a-a770-333eccb921c2",
   "metadata": {
    "scrolled": true,
    "tags": []
   },
   "outputs": [],
   "source": [
    "# Rename all the dodgy words\n",
    "diaries['type_of_exercise'].replace({'Cycle': 'cycle', 'walking': 'walk', \n",
    "                                        'hike':'walk', 'pliates': 'pilates',\n",
    "                                       'rin': 'run', 'Run':'run', 'ron':'run',\n",
    "                                       'run ': 'run'}, inplace=True)"
   ]
  },
  {
   "cell_type": "code",
   "execution_count": 14,
   "id": "9fea4767",
   "metadata": {},
   "outputs": [],
   "source": [
    "size1 = diaries.shape[0]"
   ]
  },
  {
   "cell_type": "code",
   "execution_count": 15,
   "id": "a518df26-d53f-4013-9b95-b0008f32f731",
   "metadata": {
    "scrolled": true,
    "tags": []
   },
   "outputs": [
    {
     "data": {
      "text/plain": [
       "run                  464\n",
       "walk                  78\n",
       "gym                   58\n",
       "cycle                 52\n",
       "exercise class        27\n",
       "yoga                  24\n",
       "golf                  16\n",
       "pilates               13\n",
       "HIT                    5\n",
       "rock climbing          5\n",
       "cycle-run-cycle        5\n",
       "badminton              3\n",
       "cross trainer          3\n",
       "circuits               2\n",
       "core                   2\n",
       "painting               2\n",
       "boxing                 2\n",
       "interval training      2\n",
       "run/gym                2\n",
       "step class             1\n",
       "dance                  1\n",
       "weights                1\n",
       "swim                   1\n",
       "housework              1\n",
       "gardening              1\n",
       "boot camp              1\n",
       "surfing                1\n",
       "Trampolining           1\n",
       "Barre                  1\n",
       "tough mudder           1\n",
       "paddle boarding        1\n",
       "2.6                    1\n",
       "manual work            1\n",
       "Name: type_of_exercise, dtype: int64"
      ]
     },
     "execution_count": 15,
     "metadata": {},
     "output_type": "execute_result"
    }
   ],
   "source": [
    "diaries['type_of_exercise'].value_counts()"
   ]
  },
  {
   "cell_type": "code",
   "execution_count": 16,
   "id": "4b43f067-a4c9-43bb-a445-54a8361abaf2",
   "metadata": {
    "tags": []
   },
   "outputs": [],
   "source": [
    "# Drop the non-exercise activities\n",
    "#diaries = diaries.loc[~diaries['type_of_exercise'].isin(['housework', 'gardening', 'manual work'])]"
   ]
  },
  {
   "cell_type": "code",
   "execution_count": 17,
   "id": "33e1a040-0c34-4d7e-a81d-d87c426c9390",
   "metadata": {
    "tags": []
   },
   "outputs": [],
   "source": [
    "# Divide the exercise types into aerobic, anaerobic and mixed\n",
    "dict_exercise_type = {'run': 'aer', 'walk': 'aer', 'gym': 'mix', 'cycle': 'aer',\n",
    "                      'swim': 'aer', 'exercise class': 'mix', 'yoga': 'ana', 'pilates': 'ana',\n",
    "                     'golf': 'aer', 'cycle-run-cycle': 'aer', 'HIT': 'ana', \n",
    "                     'rock climbing': 'ana', 'core': 'ana', 'badminton': 'aer',\n",
    "                     'cross trainer': 'aer', 'painting': 'mix', 'boxing': 'mix',\n",
    "                     'circuits': 'mix', 'Barre': 'ana', 'Trampolining': 'aer', \n",
    "                     '2.6': np.nan,\n",
    "                     2.6: np.nan, \n",
    "                     'interval training': 'mix', 'dance': 'aer',\n",
    "                     'boot camp': 'mix', 'surfing': 'mix', 'paddle boarding': 'mix',\n",
    "                      'step class': 'aer','tough mudder': 'mix', 'run/gym':'mix', 'weights':'ana',\n",
    "                      'housework':'mix', 'gardening':'mix', 'manual work':'mix'\n",
    "                  }\n",
    "diaries['form_of_exercise'] = diaries['type_of_exercise'].replace(dict_exercise_type)"
   ]
  },
  {
   "cell_type": "code",
   "execution_count": 18,
   "id": "6d5a5808",
   "metadata": {},
   "outputs": [],
   "source": [
    "# Change intensity to range 0-2\n",
    "diaries['intensity'] = diaries['intensity'].apply(lambda x: preprocess_helper.replace_borg(x))"
   ]
  },
  {
   "cell_type": "code",
   "execution_count": 19,
   "id": "ecf9c089",
   "metadata": {},
   "outputs": [
    {
     "data": {
      "text/plain": [
       "779"
      ]
     },
     "execution_count": 19,
     "metadata": {},
     "output_type": "execute_result"
    }
   ],
   "source": [
    "size1"
   ]
  },
  {
   "cell_type": "code",
   "execution_count": 20,
   "id": "80e7aa43",
   "metadata": {},
   "outputs": [
    {
     "data": {
      "text/plain": [
       "0"
      ]
     },
     "execution_count": 20,
     "metadata": {},
     "output_type": "execute_result"
    }
   ],
   "source": [
    "size1 - diaries.shape[0]"
   ]
  },
  {
   "attachments": {},
   "cell_type": "markdown",
   "id": "b76aa9f9-c62b-4e78-985f-1b4b81d4fd46",
   "metadata": {
    "tags": []
   },
   "source": [
    "## 1.2. Preprocess demographics data"
   ]
  },
  {
   "cell_type": "code",
   "execution_count": 21,
   "id": "6f89465b-df22-418b-9561-45d1ce6d4af3",
   "metadata": {
    "scrolled": true,
    "tags": []
   },
   "outputs": [],
   "source": [
    "# Upload demographic data\n",
    "df_demo = pd.read_excel(directory_demo_lab+'demographics.xlsx', sheet_name='Demographics')\n",
    "# Remove ones that don't have data\n",
    "df_demo = df_demo.loc[df_demo['Questionnaire 1'] == 'Yes']"
   ]
  },
  {
   "attachments": {},
   "cell_type": "markdown",
   "id": "d7137dec-64d5-4207-bfcb-27104fc73434",
   "metadata": {},
   "source": [
    "### 1.2.1. Calculate BMI"
   ]
  },
  {
   "cell_type": "code",
   "execution_count": 22,
   "id": "cd98cdfe-1e56-49a3-bfa7-289c8bdf6081",
   "metadata": {
    "tags": []
   },
   "outputs": [],
   "source": [
    "# Fill null values in order to manipulate columns\n",
    "df_demo.loc[:,['Metres', 'Centimetres', 'Feet ', 'Inches']].fillna(0, inplace=True)"
   ]
  },
  {
   "cell_type": "code",
   "execution_count": 23,
   "id": "1cbb33ba-858e-4134-94f1-185490c02d95",
   "metadata": {},
   "outputs": [],
   "source": [
    "# Height recorded in different metrics so need to be sorted out (bloody medics)\n",
    "df_demo['height_cm'] = df_demo['Metres']*100 + df_demo['Centimetres']\n",
    "df_demo['height_inch'] = df_demo['Feet ']*12 + df_demo['Inches']\n",
    "df_demo['height_inch'] = df_demo['height_inch']*2.54\n",
    "df_demo['height_inch'].replace(0, np.nan, inplace=True)\n",
    "df_demo['height'] = df_demo['height_inch'].fillna(df_demo['height_cm'])"
   ]
  },
  {
   "cell_type": "code",
   "execution_count": 24,
   "id": "559c11af-9a31-4feb-bfb9-b4f34c54e2b6",
   "metadata": {},
   "outputs": [],
   "source": [
    "# Ditto for weight\n",
    "df_demo['weight_pounds'] = (df_demo.Stone*14 + df_demo.Pounds)*0.454\n",
    "df_demo.weight_pounds.replace(0, np.nan, inplace=True)\n",
    "df_demo['weight'] = df_demo.weight_pounds.fillna(df_demo.Kilograms)"
   ]
  },
  {
   "cell_type": "code",
   "execution_count": 25,
   "id": "18dd77ab-5416-4d21-83a8-71f0438599e1",
   "metadata": {},
   "outputs": [],
   "source": [
    "# Calculate bmi\n",
    "df_demo['bmi'] = df_demo['weight']/(df_demo['height']/100*df_demo['height']/100)"
   ]
  },
  {
   "cell_type": "code",
   "execution_count": 26,
   "id": "522addea-0229-49d1-a328-b4838bdf3c0d",
   "metadata": {},
   "outputs": [],
   "source": [
    "# Drop unneeded columns\n",
    "df_demo.drop(columns = ['Stone', 'Pounds', 'Kilograms', 'Feet ', 'Inches',\n",
    "                        'Metres', 'Centimetres', 'height_cm', 'height_inch',\n",
    "                        'Questionnaire 1', 'date entered study'], inplace=True)"
   ]
  },
  {
   "attachments": {},
   "cell_type": "markdown",
   "id": "a2219c5f-fc08-4a27-a2f2-450696ffad55",
   "metadata": {},
   "source": [
    "### 1.2.2. Change col names and drop redundant cols"
   ]
  },
  {
   "cell_type": "code",
   "execution_count": 27,
   "id": "ce15d081-128c-428b-9007-a92a45619b94",
   "metadata": {},
   "outputs": [],
   "source": [
    "# Rename cols\n",
    "column_names = {'Participant No.': 'ID', 'Age (years)': 'age', \n",
    "                'Sex (1=m, 2=F)': 'sex', 'Diagnosed Month': 'diagnosis_month', \n",
    "                'Diagnosed Year': 'diagnosis_year', 'length of diabetes years': \n",
    "                'years_since_diagnosis', 'date diagnosed with Diabetes': \n",
    "                'diagnosis_date','Treat Diabetes 1= MDI, 2 Pump': \n",
    "                'insulin_modality', 'Insulin in Pump': 'insulin_in_pump', \n",
    "                'fast acting insulin': 'fast_insulin', 'Lon acting Insulin':\n",
    "                'long_insulin', 'Once or Twice': 'once_or_twice',\n",
    "                'Total BI': 'total_bi', 'Ratios (1= yes, 2 = no)': 'ratios',\n",
    "                'Correction Factor': 'correction_factor', \n",
    "                'Eyes_1 1= yes, 2 No': 'eyes_1',\n",
    "               }\n",
    "df_demo.rename(column_names, axis=1, inplace=True)"
   ]
  },
  {
   "cell_type": "code",
   "execution_count": 28,
   "id": "3660a457-bb59-4a21-a480-1163cb164fba",
   "metadata": {},
   "outputs": [],
   "source": [
    "# Drop cols\n",
    "columns_drop = ['DOB', 'diagnosis_date', 'insulin_in_pump', 'fast_insulin', \n",
    "                'long_insulin']\n",
    "df_demo.drop(columns=columns_drop, inplace=True)"
   ]
  },
  {
   "cell_type": "code",
   "execution_count": 29,
   "id": "03ec9a77-8859-453a-8eb3-c9ca9913190b",
   "metadata": {
    "scrolled": true,
    "tags": []
   },
   "outputs": [],
   "source": [
    "# Reset index\n",
    "df_demo.reset_index(inplace=True, drop=True)"
   ]
  },
  {
   "cell_type": "code",
   "execution_count": 30,
   "id": "972c85db-dc13-4cfb-869d-3741422c466c",
   "metadata": {
    "scrolled": true,
    "tags": []
   },
   "outputs": [],
   "source": [
    "# Replace binary with categorical\n",
    "df_demo.sex.replace({1:'male', 2:'female'}, inplace=True)\n",
    "df_demo.insulin_modality.replace({1:'mdi', 2:'pump'}, inplace=True)"
   ]
  },
  {
   "cell_type": "code",
   "execution_count": 31,
   "id": "9bc3f82c-6933-411a-b0ef-519129dee4f2",
   "metadata": {},
   "outputs": [],
   "source": [
    "df_demo_cut = df_demo.loc[:,['ID', 'age', 'sex', 'years_since_diagnosis', 'insulin_modality', 'bmi']]"
   ]
  },
  {
   "attachments": {},
   "cell_type": "markdown",
   "id": "e267a701-bebb-4fec-838e-1c271e6f24d0",
   "metadata": {},
   "source": [
    "## 1.3. Preprocess lab data"
   ]
  },
  {
   "cell_type": "code",
   "execution_count": 32,
   "id": "f32394ee-0e6a-4df7-a277-37e314bf48c5",
   "metadata": {},
   "outputs": [],
   "source": [
    "# Upload the lab data\n",
    "df_lab = pd.read_excel(directory_demo_lab + 'demographics.xlsx',\n",
    "                       sheet_name='Lab results')"
   ]
  },
  {
   "cell_type": "code",
   "execution_count": 33,
   "id": "cab16ca8-3569-40ee-a382-c85258afc0c4",
   "metadata": {},
   "outputs": [],
   "source": [
    "# Drop unnecessary columns\n",
    "to_drop = ['Date of Receipt','Urine C-peptide/Creatinine Ratio (nmol/mmol)', \n",
    "           'Date of Receipt', 'Date of Receipt2', 'Date of Receipt3',\n",
    "           'HBAIC Sample ID', 'Barcode Set', 'Urine Sample ID',\n",
    "           'Plasma Sample ID']\n",
    "df_lab.drop(columns=to_drop, inplace=True)\n",
    "# Rename columns\n",
    "df_lab.columns = ['ID', 'visit', 'urine_cpep', 'urine_creat', 'hba1c', 'chol',\n",
    "                 'cpep', 'h_index', 'hdl', 'ldl', 'nhdl', 'trig']"
   ]
  },
  {
   "cell_type": "code",
   "execution_count": 34,
   "id": "6479c1ed-e9b0-4d6d-8af5-ce939f66284c",
   "metadata": {
    "scrolled": true,
    "tags": []
   },
   "outputs": [],
   "source": [
    "# Replace missing first visits with second visit results\n",
    "df_lab = df_lab.sort_values(['ID', 'visit']).reset_index(drop=True).groupby('ID').apply(preprocess_helper.get_lab_results)\n",
    "# Select only first visit results\n",
    "df_lab = df_lab[df_lab['visit']==1]"
   ]
  },
  {
   "cell_type": "code",
   "execution_count": 35,
   "id": "2013aa12-2ecf-4939-aeff-61e21608f911",
   "metadata": {},
   "outputs": [],
   "source": [
    "# Merge demographic and lab data\n",
    "demo_lab = df_demo_cut.merge(df_lab, how='outer', on='ID').drop(columns='visit')\n",
    "demo_lab['ID'] = demo_lab['ID'].astype(int)"
   ]
  },
  {
   "cell_type": "code",
   "execution_count": 36,
   "id": "bf731623",
   "metadata": {},
   "outputs": [
    {
     "data": {
      "text/html": [
       "<div>\n",
       "<style scoped>\n",
       "    .dataframe tbody tr th:only-of-type {\n",
       "        vertical-align: middle;\n",
       "    }\n",
       "\n",
       "    .dataframe tbody tr th {\n",
       "        vertical-align: top;\n",
       "    }\n",
       "\n",
       "    .dataframe thead th {\n",
       "        text-align: right;\n",
       "    }\n",
       "</style>\n",
       "<table border=\"1\" class=\"dataframe\">\n",
       "  <thead>\n",
       "    <tr style=\"text-align: right;\">\n",
       "      <th></th>\n",
       "      <th>ID</th>\n",
       "      <th>age</th>\n",
       "      <th>sex</th>\n",
       "      <th>years_since_diagnosis</th>\n",
       "      <th>insulin_modality</th>\n",
       "      <th>bmi</th>\n",
       "      <th>urine_cpep</th>\n",
       "      <th>urine_creat</th>\n",
       "      <th>hba1c</th>\n",
       "      <th>chol</th>\n",
       "      <th>cpep</th>\n",
       "      <th>h_index</th>\n",
       "      <th>hdl</th>\n",
       "      <th>ldl</th>\n",
       "      <th>nhdl</th>\n",
       "      <th>trig</th>\n",
       "    </tr>\n",
       "  </thead>\n",
       "  <tbody>\n",
       "    <tr>\n",
       "      <th>0</th>\n",
       "      <td>3001</td>\n",
       "      <td>41.615332</td>\n",
       "      <td>female</td>\n",
       "      <td>10.064339</td>\n",
       "      <td>pump</td>\n",
       "      <td>23.112472</td>\n",
       "      <td>0.03</td>\n",
       "      <td>2.9</td>\n",
       "      <td>73.0</td>\n",
       "      <td>5.2</td>\n",
       "      <td>3.0</td>\n",
       "      <td>339.0</td>\n",
       "      <td>1.62</td>\n",
       "      <td>2.85</td>\n",
       "      <td>3.53</td>\n",
       "      <td>1.48</td>\n",
       "    </tr>\n",
       "    <tr>\n",
       "      <th>1</th>\n",
       "      <td>3002</td>\n",
       "      <td>48.008214</td>\n",
       "      <td>female</td>\n",
       "      <td>17.065024</td>\n",
       "      <td>mdi</td>\n",
       "      <td>23.353250</td>\n",
       "      <td>0.03</td>\n",
       "      <td>5.6</td>\n",
       "      <td>57.0</td>\n",
       "      <td>4.3</td>\n",
       "      <td>3.0</td>\n",
       "      <td>59.0</td>\n",
       "      <td>1.88</td>\n",
       "      <td>1.94</td>\n",
       "      <td>2.39</td>\n",
       "      <td>0.99</td>\n",
       "    </tr>\n",
       "    <tr>\n",
       "      <th>2</th>\n",
       "      <td>3003</td>\n",
       "      <td>52.049281</td>\n",
       "      <td>male</td>\n",
       "      <td>48.980151</td>\n",
       "      <td>pump</td>\n",
       "      <td>23.205444</td>\n",
       "      <td>0.03</td>\n",
       "      <td>2.4</td>\n",
       "      <td>52.0</td>\n",
       "      <td>4.3</td>\n",
       "      <td>3.0</td>\n",
       "      <td>132.0</td>\n",
       "      <td>1.97</td>\n",
       "      <td>2.15</td>\n",
       "      <td>2.37</td>\n",
       "      <td>0.49</td>\n",
       "    </tr>\n",
       "    <tr>\n",
       "      <th>3</th>\n",
       "      <td>3004</td>\n",
       "      <td>30.047912</td>\n",
       "      <td>male</td>\n",
       "      <td>21.560575</td>\n",
       "      <td>mdi</td>\n",
       "      <td>24.957697</td>\n",
       "      <td>0.03</td>\n",
       "      <td>3.3</td>\n",
       "      <td>55.0</td>\n",
       "      <td>3.5</td>\n",
       "      <td>3.0</td>\n",
       "      <td>33.0</td>\n",
       "      <td>1.31</td>\n",
       "      <td>1.87</td>\n",
       "      <td>2.22</td>\n",
       "      <td>0.77</td>\n",
       "    </tr>\n",
       "    <tr>\n",
       "      <th>4</th>\n",
       "      <td>3005</td>\n",
       "      <td>47.775496</td>\n",
       "      <td>male</td>\n",
       "      <td>4.065708</td>\n",
       "      <td>mdi</td>\n",
       "      <td>26.523164</td>\n",
       "      <td>2.60</td>\n",
       "      <td>3.4</td>\n",
       "      <td>56.0</td>\n",
       "      <td>4.8</td>\n",
       "      <td>366.0</td>\n",
       "      <td>242.0</td>\n",
       "      <td>1.00</td>\n",
       "      <td>2.39</td>\n",
       "      <td>3.77</td>\n",
       "      <td>3.02</td>\n",
       "    </tr>\n",
       "  </tbody>\n",
       "</table>\n",
       "</div>"
      ],
      "text/plain": [
       "     ID        age     sex  years_since_diagnosis insulin_modality        bmi  \\\n",
       "0  3001  41.615332  female              10.064339             pump  23.112472   \n",
       "1  3002  48.008214  female              17.065024              mdi  23.353250   \n",
       "2  3003  52.049281    male              48.980151             pump  23.205444   \n",
       "3  3004  30.047912    male              21.560575              mdi  24.957697   \n",
       "4  3005  47.775496    male               4.065708              mdi  26.523164   \n",
       "\n",
       "   urine_cpep  urine_creat  hba1c  chol   cpep  h_index   hdl   ldl  nhdl  \\\n",
       "0        0.03          2.9   73.0   5.2    3.0    339.0  1.62  2.85  3.53   \n",
       "1        0.03          5.6   57.0   4.3    3.0     59.0  1.88  1.94  2.39   \n",
       "2        0.03          2.4   52.0   4.3    3.0    132.0  1.97  2.15  2.37   \n",
       "3        0.03          3.3   55.0   3.5    3.0     33.0  1.31  1.87  2.22   \n",
       "4        2.60          3.4   56.0   4.8  366.0    242.0  1.00  2.39  3.77   \n",
       "\n",
       "   trig  \n",
       "0  1.48  \n",
       "1  0.99  \n",
       "2  0.49  \n",
       "3  0.77  \n",
       "4  3.02  "
      ]
     },
     "execution_count": 36,
     "metadata": {},
     "output_type": "execute_result"
    }
   ],
   "source": [
    "demo_lab.head()"
   ]
  },
  {
   "attachments": {},
   "cell_type": "markdown",
   "id": "90323575-c019-48e4-947c-1b7ff24e23f0",
   "metadata": {
    "tags": []
   },
   "source": [
    "## 1.4. Preprocess FGM data"
   ]
  },
  {
   "cell_type": "code",
   "execution_count": 37,
   "id": "2be056b0-037e-41a8-a5c8-2965981e090f",
   "metadata": {
    "scrolled": true,
    "tags": []
   },
   "outputs": [
    {
     "name": "stdout",
     "output_type": "stream",
     "text": [
      "3016 2.csv\n",
      "3034 2.csv\n",
      "3026 2.csv\n",
      "3031 2.csv\n",
      "3032 2.csv\n",
      "3046 2.csv\n",
      "3020 2.csv\n",
      "3023 2.csv\n",
      "3001 2.csv\n",
      "3045 2.csv\n",
      "3039 2.csv\n",
      "3010 2.csv\n",
      "3019 2.csv\n",
      "3047 2.csv\n",
      "3041 2.csv\n",
      "3044 2.csv\n",
      "3011 2.csv\n",
      "3015 2.csv\n",
      "3004 2.csv\n",
      "3005 2.csv\n",
      "3013 2.csv\n",
      "3038 2.csv\n",
      "3036 2.csv\n",
      "3027 2.csv\n",
      "3003 2.csv\n",
      "3007 2.csv\n",
      "3021 2.csv\n",
      "3024 2.csv\n",
      "3040 2.csv\n",
      "3012 2.csv\n",
      "3014 2.csv\n",
      "3008 2.csv\n",
      "3002 2.csv\n",
      "3037 2.csv\n",
      "3033 2.csv\n",
      "3018 2.csv\n",
      "3043 2.csv\n",
      "3017 2.csv\n",
      "3009 2.csv\n",
      "3030 2.csv\n",
      "3028 2.csv\n",
      "3035 2.csv\n"
     ]
    }
   ],
   "source": [
    "# Declare empty dataframe\n",
    "cgm_total= pd.DataFrame()\n",
    "#loop through every filename in the directory\n",
    "for filename in os.listdir(directory_cgm):\n",
    "    print(filename)\n",
    "    # set filepath for each file in directory\n",
    "    filepath = directory_cgm+'/'+filename\n",
    "    # Get the ID from the filename by selecting last 4 characters\n",
    "    ID = int(filename[:4])\n",
    "    # Upload cgm dataset for the file\n",
    "    df = pd.read_csv(filepath, header=2)\n",
    "    # Set the timestamp to datetime and sort\n",
    "    df['Meter Timestamp'] = pd.to_datetime(df['Meter Timestamp'], dayfirst=True)\n",
    "    df = df.sort_values('Meter Timestamp', ascending=True)\n",
    "    # Set a column 'ID' in the dataframe as the ID so it can be identified later on\n",
    "    df['ID'] = ID\n",
    "    cgm_total = cgm_total.append(df)"
   ]
  },
  {
   "cell_type": "code",
   "execution_count": 38,
   "id": "45f34b50-356a-4eb8-983b-1e1e1cc5af14",
   "metadata": {},
   "outputs": [],
   "source": [
    "cgm_data = cgm_total.loc[:,['ID', 'Meter Timestamp','Historic Glucose(mmol/L)','Scan Glucose(mmol/L)',]]\n",
    "cgm_data.columns = ['ID', 'time', 'glc', 'scan_glc']\n",
    "cgm_data.dropna(how='all', subset=['glc', 'scan_glc'], inplace=True)\n",
    "cgm_data.reset_index(inplace=True, drop=True)\n",
    "cgm_data = cgm_data[~cgm_data[['time', 'ID']].duplicated(keep='first')]"
   ]
  },
  {
   "cell_type": "code",
   "execution_count": 39,
   "id": "09ed8b26-f68a-4fa7-9ab0-76a5ac5c7346",
   "metadata": {},
   "outputs": [
    {
     "data": {
      "text/html": [
       "<div>\n",
       "<style scoped>\n",
       "    .dataframe tbody tr th:only-of-type {\n",
       "        vertical-align: middle;\n",
       "    }\n",
       "\n",
       "    .dataframe tbody tr th {\n",
       "        vertical-align: top;\n",
       "    }\n",
       "\n",
       "    .dataframe thead th {\n",
       "        text-align: right;\n",
       "    }\n",
       "</style>\n",
       "<table border=\"1\" class=\"dataframe\">\n",
       "  <thead>\n",
       "    <tr style=\"text-align: right;\">\n",
       "      <th></th>\n",
       "      <th>ID</th>\n",
       "      <th>time</th>\n",
       "      <th>glc</th>\n",
       "      <th>scan_glc</th>\n",
       "    </tr>\n",
       "  </thead>\n",
       "  <tbody>\n",
       "    <tr>\n",
       "      <th>0</th>\n",
       "      <td>3016</td>\n",
       "      <td>2018-06-05 14:46:00</td>\n",
       "      <td>10.3</td>\n",
       "      <td>NaN</td>\n",
       "    </tr>\n",
       "    <tr>\n",
       "      <th>1</th>\n",
       "      <td>3016</td>\n",
       "      <td>2018-06-05 14:55:00</td>\n",
       "      <td>NaN</td>\n",
       "      <td>9.8</td>\n",
       "    </tr>\n",
       "    <tr>\n",
       "      <th>2</th>\n",
       "      <td>3016</td>\n",
       "      <td>2018-06-05 15:01:00</td>\n",
       "      <td>9.8</td>\n",
       "      <td>NaN</td>\n",
       "    </tr>\n",
       "    <tr>\n",
       "      <th>3</th>\n",
       "      <td>3016</td>\n",
       "      <td>2018-06-05 15:03:00</td>\n",
       "      <td>NaN</td>\n",
       "      <td>10.1</td>\n",
       "    </tr>\n",
       "    <tr>\n",
       "      <th>4</th>\n",
       "      <td>3016</td>\n",
       "      <td>2018-06-05 15:07:00</td>\n",
       "      <td>NaN</td>\n",
       "      <td>9.9</td>\n",
       "    </tr>\n",
       "  </tbody>\n",
       "</table>\n",
       "</div>"
      ],
      "text/plain": [
       "     ID                time   glc  scan_glc\n",
       "0  3016 2018-06-05 14:46:00  10.3       NaN\n",
       "1  3016 2018-06-05 14:55:00   NaN       9.8\n",
       "2  3016 2018-06-05 15:01:00   9.8       NaN\n",
       "3  3016 2018-06-05 15:03:00   NaN      10.1\n",
       "4  3016 2018-06-05 15:07:00   NaN       9.9"
      ]
     },
     "execution_count": 39,
     "metadata": {},
     "output_type": "execute_result"
    }
   ],
   "source": [
    "cgm_data.head()"
   ]
  },
  {
   "attachments": {},
   "cell_type": "markdown",
   "id": "39484122-8c80-467d-ae24-f0a0ef678b30",
   "metadata": {
    "tags": []
   },
   "source": [
    "## 1.5. Save files"
   ]
  },
  {
   "cell_type": "code",
   "execution_count": 40,
   "id": "6833e046",
   "metadata": {},
   "outputs": [],
   "source": [
    "# Add 'helm' to IDs to make them unique\n",
    "for i in [diaries, cgm_data, demo_lab]:\n",
    "    i['ID'] = i['ID'].apply(lambda row: 'ext_101_'+str(row))"
   ]
  },
  {
   "cell_type": "code",
   "execution_count": 41,
   "id": "9b6d3fb4-db74-41e6-bf91-afd75e7355f6",
   "metadata": {},
   "outputs": [],
   "source": [
    "df_directory = '../../data/tidy_data/extod_101/'\n",
    "diaries.to_csv(df_directory+'exercise.csv', index=False)\n",
    "cgm_data.to_csv(df_directory+'cgm.csv', index=False)\n",
    "demo_lab.to_csv(df_directory+'demo_lab.csv', index=False)"
   ]
  },
  {
   "cell_type": "code",
   "execution_count": 42,
   "id": "7b281788",
   "metadata": {},
   "outputs": [],
   "source": [
    "# Convert arrays to sets\n",
    "set1 = set(cgm_data.ID.unique())\n",
    "set2 = set(diaries.ID.unique())\n",
    "\n",
    "# Find items that are not common in both arrays\n",
    "unique_to_array1 = set1 - set2\n",
    "unique_to_array2 = set2 - set1"
   ]
  },
  {
   "cell_type": "code",
   "execution_count": 43,
   "id": "2ef89fe0",
   "metadata": {},
   "outputs": [
    {
     "data": {
      "text/plain": [
       "{'ext_101_3011',\n",
       " 'ext_101_3023',\n",
       " 'ext_101_3024',\n",
       " 'ext_101_3035',\n",
       " 'ext_101_3041',\n",
       " 'ext_101_3043',\n",
       " 'ext_101_3044'}"
      ]
     },
     "execution_count": 43,
     "metadata": {},
     "output_type": "execute_result"
    }
   ],
   "source": [
    "# Only have\n",
    "unique_to_array1"
   ]
  },
  {
   "cell_type": "code",
   "execution_count": 44,
   "id": "369a9383",
   "metadata": {},
   "outputs": [],
   "source": [
    "unique_to_array2 = list(unique_to_array2)"
   ]
  },
  {
   "cell_type": "code",
   "execution_count": 45,
   "id": "c9a12031",
   "metadata": {},
   "outputs": [],
   "source": [
    "size1 = diaries.shape[0]"
   ]
  },
  {
   "cell_type": "code",
   "execution_count": 46,
   "id": "76a1f0bb",
   "metadata": {},
   "outputs": [
    {
     "data": {
      "text/plain": [
       "105"
      ]
     },
     "execution_count": 46,
     "metadata": {},
     "output_type": "execute_result"
    }
   ],
   "source": [
    "diaries = diaries[(diaries['duration']>10)&(diaries['duration']<120)]\n",
    "size1 - diaries.shape[0]"
   ]
  },
  {
   "cell_type": "code",
   "execution_count": 47,
   "id": "b745dfee",
   "metadata": {},
   "outputs": [],
   "source": [
    "filtered_diaries = diaries[~diaries['ID'].isin(unique_to_array2)]\n"
   ]
  },
  {
   "cell_type": "code",
   "execution_count": 48,
   "id": "e3177fdf",
   "metadata": {},
   "outputs": [
    {
     "data": {
      "text/plain": [
       "35"
      ]
     },
     "execution_count": 48,
     "metadata": {},
     "output_type": "execute_result"
    }
   ],
   "source": [
    "len(filtered_diaries.ID.unique())"
   ]
  },
  {
   "cell_type": "code",
   "execution_count": 49,
   "id": "eada4220",
   "metadata": {},
   "outputs": [
    {
     "data": {
      "text/plain": [
       "47"
      ]
     },
     "execution_count": 49,
     "metadata": {},
     "output_type": "execute_result"
    }
   ],
   "source": [
    "diaries.shape[0] -filtered_diaries.shape[0]"
   ]
  },
  {
   "cell_type": "code",
   "execution_count": null,
   "id": "9eb85bf5",
   "metadata": {},
   "outputs": [],
   "source": []
  }
 ],
 "metadata": {
  "kernelspec": {
   "display_name": "ml_cgm_env_test",
   "language": "python",
   "name": "python3"
  },
  "language_info": {
   "codemirror_mode": {
    "name": "ipython",
    "version": 3
   },
   "file_extension": ".py",
   "mimetype": "text/x-python",
   "name": "python",
   "nbconvert_exporter": "python",
   "pygments_lexer": "ipython3",
   "version": "3.9.7"
  },
  "vscode": {
   "interpreter": {
    "hash": "11957cbc5b69a14c5eed2137b8c383ab027096f0c9ca0d6fd5201f30e0447e4b"
   }
  }
 },
 "nbformat": 4,
 "nbformat_minor": 5
}
