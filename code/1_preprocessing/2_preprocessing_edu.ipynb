{
 "cells": [
  {
   "attachments": {},
   "cell_type": "markdown",
   "id": "3589182c-c606-4eb3-830f-742410c794c8",
   "metadata": {},
   "source": [
    "# 2. Preprocessing EXTOD education dataset"
   ]
  },
  {
   "attachments": {},
   "cell_type": "markdown",
   "id": "d7eadd29-b8c9-4e94-aa7e-729bd261dd78",
   "metadata": {},
   "source": [
    "The goal of this notebook is to prepare the EXTOD education data for machine learning - predicting euglycemia during and around exercise.\n",
    "\n",
    "EXTOD education was a pilot study in which 106 participants were randomly allocated to either standard care or an education programme teaching them how better to manage blood glucose around exercise.\n",
    "\n",
    "The data used will be demographic, lab, clinical and physiological if available.\n",
    "\n",
    "### Objectives:\n",
    "1. Clean and combine the exercise diaries\n",
    "2. Preprocess demographic data\n",
    "3. Preprcoess lab data\n",
    "4. Prepare CGM data"
   ]
  },
  {
   "attachments": {},
   "cell_type": "markdown",
   "id": "c924fe62-7126-4d0b-b97c-7419c9007d63",
   "metadata": {},
   "source": [
    "## 2.0. Import packages"
   ]
  },
  {
   "cell_type": "code",
   "execution_count": 1,
   "id": "64802834-bcc9-4928-aae6-ecad34c6e479",
   "metadata": {
    "scrolled": true
   },
   "outputs": [],
   "source": [
    "# Import packages and upload dataset\n",
    "import pandas as pd\n",
    "import numpy as np\n",
    "import datetime\n",
    "from datetime import datetime as dt\n",
    "import os\n",
    "import math\n",
    "from datetime import timedelta as time\n",
    "import warnings\n",
    "import preprocess_helper\n",
    "warnings.filterwarnings('ignore')"
   ]
  },
  {
   "cell_type": "code",
   "execution_count": 2,
   "id": "1af2f96f",
   "metadata": {},
   "outputs": [],
   "source": [
    "diary_directory = '../../data/raw_data/extod_edu/diary_data/'\n",
    "cgm_directory = '../../data/raw_data/extod_edu/cgm_data/'"
   ]
  },
  {
   "attachments": {},
   "cell_type": "markdown",
   "id": "6202d001-b2a5-4d5c-991c-c11784ea26e9",
   "metadata": {
    "tags": []
   },
   "source": [
    "## 2.1. Clean and combine exercise diaries"
   ]
  },
  {
   "attachments": {},
   "cell_type": "markdown",
   "id": "09d86380-2e5e-480a-97a7-7b25a08053b5",
   "metadata": {},
   "source": [
    "### 2.1.1. Load files and rename columns"
   ]
  },
  {
   "cell_type": "code",
   "execution_count": 3,
   "id": "7707fe8e-28ce-4394-bcb1-4b3b08d6b09b",
   "metadata": {},
   "outputs": [],
   "source": [
    "ex_diary_tn_bsl = pd.read_excel(diary_directory+'taunton.xlsx', sheet_name='Taunton_baseline')\n",
    "ex_diary_tn_6m = pd.read_excel(diary_directory+'taunton.xlsx', sheet_name='Taunton_6months')\n",
    "ex_diary_bm_bsl = pd.read_excel(diary_directory+'birmingham.xlsx',  sheet_name='Birmingham_baseline')\n",
    "ex_diary_bm_6m = pd.read_excel(diary_directory+'birmingham.xlsx',  sheet_name='Birmingham_6months')"
   ]
  },
  {
   "cell_type": "code",
   "execution_count": 4,
   "id": "3e2f637d-aa06-4cab-99b2-a6ce9b082371",
   "metadata": {},
   "outputs": [],
   "source": [
    "# Create list with all diaries in\n",
    "diaries = [ex_diary_tn_bsl, ex_diary_tn_6m, ex_diary_bm_bsl, ex_diary_bm_6m]"
   ]
  },
  {
   "cell_type": "code",
   "execution_count": 5,
   "id": "f140630e-d46a-4d77-8e10-e10d576acd6c",
   "metadata": {
    "scrolled": true,
    "tags": []
   },
   "outputs": [],
   "source": [
    "# This diary has an extra column 'day'\n",
    "ex_diary_bm_6m.drop(columns='Day', inplace=True)"
   ]
  },
  {
   "cell_type": "code",
   "execution_count": 6,
   "id": "5758787c-de26-4efd-8236-d80331fb74c9",
   "metadata": {},
   "outputs": [],
   "source": [
    "# Clean diaries\n",
    "diaries = [preprocess_helper.clean(i) for i in diaries]\n",
    "# Concatenate them into one df\n",
    "exercise_diaries = pd.concat(diaries, axis=0)\n",
    "# Only select days where exercise has occurred\n",
    "exercise_diaries = exercise_diaries.loc[(exercise_diaries.exercise_on_day=='Yes') | (exercise_diaries.exercise_on_day=='yes')]"
   ]
  },
  {
   "cell_type": "code",
   "execution_count": 7,
   "id": "9e9ef42c",
   "metadata": {},
   "outputs": [],
   "source": [
    "size1 = exercise_diaries.shape[0]"
   ]
  },
  {
   "cell_type": "code",
   "execution_count": 8,
   "id": "3160aa9c",
   "metadata": {},
   "outputs": [
    {
     "data": {
      "text/plain": [
       "1017"
      ]
     },
     "execution_count": 8,
     "metadata": {},
     "output_type": "execute_result"
    }
   ],
   "source": [
    "size1"
   ]
  },
  {
   "cell_type": "code",
   "execution_count": 9,
   "id": "64c6fa79",
   "metadata": {},
   "outputs": [
    {
     "data": {
      "text/plain": [
       "91"
      ]
     },
     "execution_count": 9,
     "metadata": {},
     "output_type": "execute_result"
    }
   ],
   "source": [
    "len(exercise_diaries.ID.unique())"
   ]
  },
  {
   "attachments": {},
   "cell_type": "markdown",
   "id": "a4236620-52dd-4136-8f10-258e6b0cf8c0",
   "metadata": {},
   "source": [
    "### 2.1.2. Clean datetime column"
   ]
  },
  {
   "cell_type": "code",
   "execution_count": 9,
   "id": "9a3d729c-a395-4617-8fa1-1d7fcd039de4",
   "metadata": {
    "scrolled": true,
    "tags": []
   },
   "outputs": [],
   "source": [
    "# Fix the finish time\n",
    "exercise_diaries.finish_time = exercise_diaries.finish_time.apply(lambda x: preprocess_helper.check_time(x))"
   ]
  },
  {
   "cell_type": "code",
   "execution_count": 10,
   "id": "ba328619-124e-4c12-bcc1-217c409e9e24",
   "metadata": {
    "scrolled": true,
    "tags": []
   },
   "outputs": [],
   "source": [
    "# Fix the start time\n",
    "exercise_diaries.start_time = exercise_diaries.start_time.apply(lambda x: preprocess_helper.check_time(x))"
   ]
  },
  {
   "cell_type": "code",
   "execution_count": 11,
   "id": "e2ca6599-3010-4695-922d-0e0a0bbdbd22",
   "metadata": {
    "scrolled": true,
    "tags": []
   },
   "outputs": [],
   "source": [
    "# Combine date and time to make datetime for start and finish\n",
    "exercise_diaries['start_datetime'] = exercise_diaries.apply(lambda row:\n",
    "                                        datetime.datetime.combine(row.date,\n",
    "                                       row.start_time) if pd.notnull(row.date)\n",
    "                                        and pd.notnull(row.start_time) else \n",
    "                                       np.nan, axis=1)\n",
    "exercise_diaries['finish_datetime'] = exercise_diaries.apply(lambda row: \n",
    "                                      datetime.datetime.combine(row.date,\n",
    "                                      row.finish_time) if pd.notnull(row.date) \n",
    "                                      and pd.notnull(row.finish_time) else\n",
    "                                                             np.nan, axis=1)"
   ]
  },
  {
   "cell_type": "code",
   "execution_count": 12,
   "id": "dd9891ca-24e2-4223-b05e-3606b0006a8b",
   "metadata": {
    "scrolled": true,
    "tags": []
   },
   "outputs": [],
   "source": [
    "# 41 dropped with no datetime data\n",
    "exercise_diaries_complete = exercise_diaries[(pd.notnull(exercise_diaries.duration_mins) &\n",
    "                               (pd.notnull(exercise_diaries.start_datetime) |\n",
    "                 pd.notnull(exercise_diaries.finish_datetime))) | (pd.notnull(exercise_diaries.start_datetime) &\n",
    "                 pd.notnull(exercise_diaries.finish_datetime))]"
   ]
  },
  {
   "cell_type": "code",
   "execution_count": 13,
   "id": "8a107fd0-adc0-4fea-b79c-1a7e713cc5da",
   "metadata": {
    "scrolled": true,
    "tags": []
   },
   "outputs": [],
   "source": [
    "# Fill gaps in datetime using other 2 measurements\n",
    "exercise_diaries_complete = exercise_diaries_complete.apply(lambda row: preprocess_helper.fill_missing(row),\n",
    "                                                            axis=1)"
   ]
  },
  {
   "cell_type": "code",
   "execution_count": 14,
   "id": "a1cdd62e-83a9-49b7-a5fc-14b7784f40c7",
   "metadata": {},
   "outputs": [],
   "source": [
    "# Calculate duration from start and finish datetimes\n",
    "#exercise_diaries_complete['duration_calc'] = exercise_diaries_complete.finish_datetime - exercise_diaries_complete.start_datetime\n",
    "# Convert to minutes\n",
    "exercise_diaries_complete['duration'] = (exercise_diaries_complete.finish_datetime - exercise_diaries_complete.start_datetime).apply(lambda x: datetime.timedelta.total_seconds(x)/60)"
   ]
  },
  {
   "cell_type": "code",
   "execution_count": 15,
   "id": "02cf6a8b-530a-4252-9455-8df2ef641d4e",
   "metadata": {},
   "outputs": [],
   "source": [
    "# Reset index\n",
    "exercise_diaries_complete.reset_index(drop=True, inplace=True)"
   ]
  },
  {
   "cell_type": "code",
   "execution_count": 16,
   "id": "d3fe8d24-8d62-4a0d-be58-ba32c3ceeb57",
   "metadata": {},
   "outputs": [],
   "source": [
    "# Manually correct some of the incorrect datetimes \n",
    "exercise_diaries_complete.at[433, 'finish_datetime'] = pd.to_datetime('2018-09-12 17:30:00')\n",
    "exercise_diaries_complete.at[457, 'finish_datetime'] = pd.to_datetime('2019-01-25 21:20:00')\n",
    "exercise_diaries_complete.at[759, 'finish_datetime'] = pd.to_datetime('2018-04-16 19:30:00')\n",
    "exercise_diaries_complete.at[589, 'finish_datetime'] = pd.to_datetime('2019-01-12 22:45:00')"
   ]
  },
  {
   "cell_type": "code",
   "execution_count": 17,
   "id": "a21e406e-a364-4cf9-a1a5-a30bb732b6f9",
   "metadata": {},
   "outputs": [],
   "source": [
    "# Manually switch start and finish time for those who put them in the wrong way\n",
    "start_times = exercise_diaries_complete.finish_datetime.iloc[[760, 730, 642, 478]]\n",
    "end_times = exercise_diaries_complete.start_datetime.iloc[[760, 730, 642, 478]] \n",
    "exercise_diaries_complete.start_datetime.iloc[[760, 730, 642, 478]] = start_times\n",
    "exercise_diaries_complete.finish_datetime.iloc[[760, 730, 642, 478]] = end_times"
   ]
  },
  {
   "cell_type": "code",
   "execution_count": 18,
   "id": "d6d2dfd3-f778-46b9-b92b-ec47522a6c2b",
   "metadata": {
    "scrolled": true,
    "tags": []
   },
   "outputs": [],
   "source": [
    "# Drop and instances where duration is negative\n",
    "exercise_diaries_complete.drop(exercise_diaries_complete.loc[exercise_diaries_complete['duration'] < 0].index, \n",
    "                               inplace=True)"
   ]
  },
  {
   "cell_type": "code",
   "execution_count": 19,
   "id": "dfb8f366-b321-429c-8e94-dd913d9259f6",
   "metadata": {},
   "outputs": [],
   "source": [
    "# Drop unneeded columns \n",
    "exdi = exercise_diaries_complete.drop(columns=['date', 'exercise_on_day', 'start_time',\n",
    "                          'finish_time', 'hours_in_mins', 'mins', #'duration_calc',\n",
    "                          'duration_mins', 'comment'])"
   ]
  },
  {
   "cell_type": "code",
   "execution_count": 20,
   "id": "3562ea3b",
   "metadata": {},
   "outputs": [],
   "source": [
    "size2 = exdi.shape[0]"
   ]
  },
  {
   "attachments": {},
   "cell_type": "markdown",
   "id": "ad1402ab-7c04-445d-927d-4902293a051d",
   "metadata": {},
   "source": [
    "### 2.1.3. Sort out dates"
   ]
  },
  {
   "cell_type": "code",
   "execution_count": 21,
   "id": "b94f89c8",
   "metadata": {},
   "outputs": [],
   "source": [
    "# Make sure there's no minus durations\n",
    "exdi = exdi.loc[exdi['duration']>0]"
   ]
  },
  {
   "cell_type": "code",
   "execution_count": 22,
   "id": "ef63bc57-f07a-4261-8ea5-6d940ad59237",
   "metadata": {},
   "outputs": [],
   "source": [
    "# Collec date information from start_datetime\n",
    "exdi = preprocess_helper.date_preprocessing(exdi, 'start_datetime', False, True, True)"
   ]
  },
  {
   "cell_type": "code",
   "execution_count": 23,
   "id": "f9183576",
   "metadata": {},
   "outputs": [
    {
     "data": {
      "text/plain": [
       "966"
      ]
     },
     "execution_count": 23,
     "metadata": {},
     "output_type": "execute_result"
    }
   ],
   "source": [
    "exdi.shape[0]"
   ]
  },
  {
   "cell_type": "code",
   "execution_count": 24,
   "id": "b320d4a0",
   "metadata": {},
   "outputs": [
    {
     "name": "stdout",
     "output_type": "stream",
     "text": [
      "Overlap detected for ID 1021:\n",
      "Interval 1: 2018-02-21 11:22:00 to 2018-02-21 11:54:00\n",
      "Interval 2: 2018-02-21 11:32:00 to 2018-02-21 12:55:00\n",
      "\n",
      "Overlap detected for ID 2021:\n",
      "Interval 1: 2018-04-26 14:15:00 to 2018-04-26 16:00:00\n",
      "Interval 2: 2018-04-26 15:15:00 to 2018-04-26 15:30:00\n",
      "\n",
      "Overlap detected for ID 2026:\n",
      "Interval 1: 2018-03-13 20:30:00 to 2018-03-13 22:15:00\n",
      "Interval 2: 2018-03-13 21:00:00 to 2018-03-13 22:00:00\n",
      "\n",
      "Overlap detected for ID 2040:\n",
      "Interval 1: 2019-02-02 20:50:00 to 2019-02-02 21:05:00\n",
      "Interval 2: 2019-02-02 21:00:00 to 2019-02-02 21:20:00\n",
      "\n"
     ]
    }
   ],
   "source": [
    "def handle_overlaps(group):\n",
    "    # Sort by start_datetime\n",
    "    group = group.sort_values(by='start_datetime')\n",
    "    \n",
    "    non_overlapping = []\n",
    "    overlap_count = 0  # Counter to limit the number of printed overlaps\n",
    "    for _, row in group.iterrows():\n",
    "        if non_overlapping:\n",
    "            last_interval = non_overlapping[-1]\n",
    "            # Check for overlap\n",
    "            if row['start_datetime'] < last_interval['finish_datetime']:\n",
    "                # Print the overlapping intervals (limited to a few for brevity)\n",
    "                if overlap_count < 5:\n",
    "                    print(f\"Overlap detected for ID {group['ID'].iloc[0]}:\")\n",
    "                    print(f\"Interval 1: {last_interval['start_datetime']} to {last_interval['finish_datetime']}\")\n",
    "                    print(f\"Interval 2: {row['start_datetime']} to {row['finish_datetime']}\\n\")\n",
    "                    overlap_count += 1\n",
    "\n",
    "                curr_duration = (row['finish_datetime'] - row['start_datetime']).seconds / 60\n",
    "                last_duration = (last_interval['finish_datetime'] - last_interval['start_datetime']).seconds / 60\n",
    "                \n",
    "                # Decide which interval to keep\n",
    "                if (curr_duration >= 10 and curr_duration <= 120) and (last_duration < 10 or last_duration > 120):\n",
    "                    non_overlapping[-1] = row\n",
    "                elif (last_duration >= 10 and last_duration <= 120) and (curr_duration < 10 or curr_duration > 120):\n",
    "                    continue\n",
    "                elif curr_duration > last_duration:\n",
    "                    non_overlapping[-1] = row\n",
    "            else:\n",
    "                non_overlapping.append(row)\n",
    "        else:\n",
    "            non_overlapping.append(row)\n",
    "    \n",
    "    return pd.DataFrame(non_overlapping)\n",
    "\n",
    "# Apply the function to each group\n",
    "exdi = exdi.groupby('ID').apply(handle_overlaps).reset_index(drop=True)\n"
   ]
  },
  {
   "cell_type": "code",
   "execution_count": 25,
   "id": "3c05cf2b",
   "metadata": {},
   "outputs": [
    {
     "data": {
      "text/plain": [
       "962"
      ]
     },
     "execution_count": 25,
     "metadata": {},
     "output_type": "execute_result"
    }
   ],
   "source": [
    "exdi.shape[0]"
   ]
  },
  {
   "attachments": {},
   "cell_type": "markdown",
   "id": "4a6f8198-5c9d-4c89-8c40-e288fac52c88",
   "metadata": {},
   "source": [
    "### 2.1.4. Borg/intensity"
   ]
  },
  {
   "cell_type": "code",
   "execution_count": 26,
   "id": "3f56e0ac-593c-443f-96e6-4f7c18ccb1b0",
   "metadata": {
    "scrolled": true,
    "tags": []
   },
   "outputs": [],
   "source": [
    "# Reset index\n",
    "exdi.reset_index(drop=True, inplace=True)"
   ]
  },
  {
   "cell_type": "code",
   "execution_count": 27,
   "id": "cd826e25",
   "metadata": {},
   "outputs": [],
   "source": [
    "# Manually correct some of the very strangely entered borg scores\n",
    "swap_dict = {'11\\\\12+ 14': 12.5, '16 for 30mins,12 after ': 14, '5, 11-13': 12}\n",
    "exdi.borg = exdi.borg.replace(swap_dict)"
   ]
  },
  {
   "cell_type": "code",
   "execution_count": 28,
   "id": "fd50efda-ae0b-4d6a-984f-9fa8c9918bdd",
   "metadata": {
    "scrolled": true,
    "tags": []
   },
   "outputs": [
    {
     "name": "stdout",
     "output_type": "stream",
     "text": [
      "Commencing phase 2\n"
     ]
    }
   ],
   "source": [
    "# Correct borg score\n",
    "exdi.borg = exdi.borg.apply(lambda x: preprocess_helper.correct_borg(x))"
   ]
  },
  {
   "cell_type": "code",
   "execution_count": 29,
   "id": "d02b1290-7756-45d3-89af-ad8d76ed6a38",
   "metadata": {},
   "outputs": [],
   "source": [
    "# Rename to intensity\n",
    "exdi.rename(columns={'borg':'intensity'}, inplace=True)"
   ]
  },
  {
   "cell_type": "code",
   "execution_count": 30,
   "id": "dd39611d",
   "metadata": {},
   "outputs": [],
   "source": [
    "# Convert to 0-2 format\n",
    "exdi['intensity'] = exdi['intensity'].apply(lambda x: preprocess_helper.replace_borg(x))"
   ]
  },
  {
   "attachments": {},
   "cell_type": "markdown",
   "id": "e856f40a-cfc8-455a-a3a0-b529635bc6c1",
   "metadata": {},
   "source": [
    "### 2.1.5. Type of exercise"
   ]
  },
  {
   "cell_type": "code",
   "execution_count": 31,
   "id": "58f982ce",
   "metadata": {},
   "outputs": [
    {
     "name": "stdout",
     "output_type": "stream",
     "text": [
      "gardening\n",
      "gardening\n",
      "gardening\n",
      "gardening\n",
      "gardening\n",
      "manual work\n",
      "manual work\n",
      "manual work\n",
      "manual work\n",
      "gardening\n",
      "gardening\n",
      "hoovering\n",
      "gardening\n",
      "gardening\n",
      "moving fence panels\n",
      "singing\n",
      "gardening\n",
      "gardening\n",
      "gardening\n",
      "heavy farm work\n",
      "gardening\n",
      "garden & farming\n",
      "gardening\n",
      "garden & farming\n",
      "farmwork\n",
      "gardening\n",
      "nk (teaching?)\n",
      "gardening\n",
      "farm work\n",
      "gardening\n",
      "gardening\n",
      "gardening\n",
      "gardening\n",
      "garden & farming\n",
      "gardening\n",
      "farm work\n",
      "gardening\n",
      "gardening\n",
      "hoovering\n",
      "gardening\n",
      "gardening\n",
      "bathroom deep clean\n",
      "gardening\n",
      "shopping\n",
      "gardening\n",
      "hoovering\n",
      "house move\n",
      "gardening\n",
      "lambing\n",
      "lambing\n",
      "lambing\n",
      "sheep weighing\n",
      "lambing\n",
      "floor scrubbing\n",
      "herding sheep\n",
      "housework\n",
      "farm work\n",
      "housework\n",
      "farm work\n",
      "farm work\n",
      "farm work\n",
      "farm work\n",
      "building work\n",
      "gardening \n",
      "house work\n",
      "work(kitchen)\n",
      "work\n",
      "housework\n",
      "house work\n",
      "gardening\n",
      "gardening\n",
      "gardening\n",
      "gardening\n",
      "gardening\n",
      "drumming\n",
      "kids play centre\n",
      "gardening\n",
      "diy\n",
      "diy\n",
      "diy\n",
      "sax playing at band\n",
      "sax playing at band\n",
      "sax playing\n",
      "gardening\n",
      "gardening\n",
      "gardening\n",
      "housework\n",
      "catching buses\n",
      "band rehersal \n",
      "house work\n"
     ]
    }
   ],
   "source": [
    "# Convert form_of_exercise\n",
    "exdi['form_of_exercise'] = exdi.type_of_exercise.apply(lambda x: \n",
    "                                                       preprocess_helper.divide_exercise_into_type(x))\n",
    "# Drop any nulls\n",
    "#exdi.dropna(subset=['form_of_exercise'], inplace=True)"
   ]
  },
  {
   "cell_type": "code",
   "execution_count": 32,
   "id": "dbf1e875",
   "metadata": {},
   "outputs": [
    {
     "data": {
      "text/plain": [
       "962"
      ]
     },
     "execution_count": 32,
     "metadata": {},
     "output_type": "execute_result"
    }
   ],
   "source": [
    "exdi.shape[0]"
   ]
  },
  {
   "attachments": {},
   "cell_type": "markdown",
   "id": "2ba1b3b4-a048-4474-a8fd-d2fb2855591a",
   "metadata": {
    "tags": []
   },
   "source": [
    "## 2.2. Clean and combine CGM files"
   ]
  },
  {
   "cell_type": "code",
   "execution_count": 33,
   "id": "5628050e",
   "metadata": {},
   "outputs": [],
   "source": [
    "# Map the function to all files in the directory\n",
    "results = list(map(lambda filename: preprocess_helper.format_df(filename, cgm_directory),\n",
    "                   os.listdir(cgm_directory)))\n",
    "# Concatenate all files to make one dataframe\n",
    "df_total = pd.concat(results).reset_index(drop=True)"
   ]
  },
  {
   "cell_type": "code",
   "execution_count": 34,
   "id": "508f745a",
   "metadata": {},
   "outputs": [
    {
     "data": {
      "text/plain": [
       "0         2012\n",
       "1         2012\n",
       "2         2012\n",
       "3         2012\n",
       "4         2012\n",
       "          ... \n",
       "235831    2045\n",
       "235832    2045\n",
       "235833    2045\n",
       "235834    2045\n",
       "235835    2045\n",
       "Name: ID, Length: 235836, dtype: int64"
      ]
     },
     "execution_count": 34,
     "metadata": {},
     "output_type": "execute_result"
    }
   ],
   "source": [
    "# Divide the label into id and period\n",
    "df_total[['ID', 'period']] = df_total.ID.str.split('_', expand=True)\n",
    "\n",
    "# Select only first part of id\n",
    "df_total.ID.apply(lambda x: int(x[:4]))"
   ]
  },
  {
   "attachments": {},
   "cell_type": "markdown",
   "id": "aea6b3a6-fe06-454e-94b2-17449a906918",
   "metadata": {},
   "source": [
    "## 2.3. Lab & demographic data"
   ]
  },
  {
   "cell_type": "code",
   "execution_count": 35,
   "id": "9742f2e3-8d86-46a8-8b88-7b4259d57b35",
   "metadata": {},
   "outputs": [],
   "source": [
    "# Load files\n",
    "demographics = pd.read_excel('../../data/raw_data/extod_edu/demographics.xlsx', sheet_name=1)\n",
    "c_pep = pd.read_excel('../../data/raw_data/extod_edu/c_pep.xlsx')"
   ]
  },
  {
   "cell_type": "code",
   "execution_count": 36,
   "id": "b5578aec-e216-4f10-b0ea-29f963917aab",
   "metadata": {},
   "outputs": [],
   "source": [
    "# Set id as first 4 characters\n",
    "demographics['ID'] = demographics.label.apply(lambda x: int(x[3:7]))"
   ]
  },
  {
   "cell_type": "code",
   "execution_count": 37,
   "id": "9435db2c-f806-4515-a920-45b8acfa1705",
   "metadata": {},
   "outputs": [],
   "source": [
    "# Merge demographics and cpep on id\n",
    "demo_lab = pd.merge(demographics, c_pep[['ID', 'Cpeptide (pmol/L)']], on='ID')"
   ]
  },
  {
   "cell_type": "code",
   "execution_count": 38,
   "id": "b338b59c-d204-47e1-aabb-6e5ae099dcd0",
   "metadata": {},
   "outputs": [],
   "source": [
    "# Calculate bmi from weight and height\n",
    "demo_lab['bmi'] = demo_lab.weight_vst1/(demo_lab.height_vst1/100 * demo_lab.height_vst1/100)"
   ]
  },
  {
   "cell_type": "code",
   "execution_count": 39,
   "id": "16357d05-0400-440e-9990-7f8aa8c659b3",
   "metadata": {},
   "outputs": [],
   "source": [
    "# Select useful columns\n",
    "demo_lab = demo_lab[['ID', 'agedv', 'gender', 'mh_t1dm_duration_vst1', 'bmi',\n",
    "                     'hba1c_result_vst1', 'Cpeptide (pmol/L)']]\n",
    "# Rename columns\n",
    "demo_lab.columns = ['ID', 'age', 'sex', 'years_since_diagnosis', 'bmi', 'hba1c',\n",
    "                    'cpep']"
   ]
  },
  {
   "cell_type": "code",
   "execution_count": 40,
   "id": "68bc3339-68aa-4e11-8777-f1271987b49e",
   "metadata": {},
   "outputs": [],
   "source": [
    "# Set sex to lower case\n",
    "demo_lab.sex = demo_lab.sex.apply(lambda x: x.lower())"
   ]
  },
  {
   "cell_type": "code",
   "execution_count": 41,
   "id": "6fda290d-be0d-483a-bdae-277ecafd7c08",
   "metadata": {},
   "outputs": [],
   "source": [
    "# Replace cpep below 3 with 3\n",
    "demo_lab.cpep.replace({'<3':2.9}, inplace=True)"
   ]
  },
  {
   "cell_type": "code",
   "execution_count": 42,
   "id": "b41cf64b",
   "metadata": {},
   "outputs": [],
   "source": [
    "# Set insulin modality for mdi for all\n",
    "demo_lab['insulin_modality'] = 'mdi'"
   ]
  },
  {
   "attachments": {},
   "cell_type": "markdown",
   "id": "7cb5803f-64df-485a-8395-e24b4a157eb0",
   "metadata": {
    "tags": []
   },
   "source": [
    "## 2.4. Save files"
   ]
  },
  {
   "cell_type": "code",
   "execution_count": 43,
   "id": "4460c0ab",
   "metadata": {},
   "outputs": [],
   "source": [
    "# Add 'helm' to IDs to make them unique\n",
    "for i in [exdi, df_total, demo_lab]:\n",
    "    i['ID'] = i['ID'].apply(lambda row: 'ext_edu_'+str(row))"
   ]
  },
  {
   "cell_type": "code",
   "execution_count": 44,
   "id": "a0fe747c-03c2-4ed1-af36-0f084935d0db",
   "metadata": {},
   "outputs": [],
   "source": [
    "df_directory = '../../data/tidy_data/extod_edu/'\n",
    "exdi.to_csv(df_directory+'exercise.csv', index=False)\n",
    "df_total.to_csv(df_directory+'cgm.csv', index=False)\n",
    "demo_lab.to_csv(df_directory+'demo_lab.csv', index=False)"
   ]
  },
  {
   "attachments": {},
   "cell_type": "markdown",
   "id": "1776b2a1",
   "metadata": {},
   "source": [
    "## Usable bouts"
   ]
  },
  {
   "cell_type": "code",
   "execution_count": 45,
   "id": "14aa913b",
   "metadata": {},
   "outputs": [],
   "source": [
    "# Convert arrays to sets\n",
    "set1 = set(df_total.ID.unique())\n",
    "set2 = set(exdi.ID.unique())\n",
    "\n",
    "# Find items that are not common in both arrays\n",
    "unique_to_array1 = set1 - set2\n",
    "unique_to_array2 = set2 - set1"
   ]
  },
  {
   "cell_type": "code",
   "execution_count": 46,
   "id": "97e5858a",
   "metadata": {},
   "outputs": [
    {
     "data": {
      "text/plain": [
       "{'ext_edu_1030',\n",
       " 'ext_edu_1032',\n",
       " 'ext_edu_2015',\n",
       " 'ext_edu_2016',\n",
       " 'ext_edu_2034'}"
      ]
     },
     "execution_count": 46,
     "metadata": {},
     "output_type": "execute_result"
    }
   ],
   "source": [
    "# Only have\n",
    "unique_to_array1"
   ]
  },
  {
   "cell_type": "code",
   "execution_count": 47,
   "id": "0be78988",
   "metadata": {},
   "outputs": [
    {
     "data": {
      "text/plain": [
       "{'ext_edu_1009',\n",
       " 'ext_edu_1016',\n",
       " 'ext_edu_1017',\n",
       " 'ext_edu_1018',\n",
       " 'ext_edu_1023',\n",
       " 'ext_edu_1028',\n",
       " 'ext_edu_1033',\n",
       " 'ext_edu_1037',\n",
       " 'ext_edu_1041',\n",
       " 'ext_edu_1043',\n",
       " 'ext_edu_1044',\n",
       " 'ext_edu_1050',\n",
       " 'ext_edu_1052',\n",
       " 'ext_edu_2014',\n",
       " 'ext_edu_2021',\n",
       " 'ext_edu_2022',\n",
       " 'ext_edu_2033',\n",
       " 'ext_edu_2044',\n",
       " 'ext_edu_2047',\n",
       " 'ext_edu_2048',\n",
       " 'ext_edu_2049',\n",
       " 'ext_edu_2050'}"
      ]
     },
     "execution_count": 47,
     "metadata": {},
     "output_type": "execute_result"
    }
   ],
   "source": [
    "unique_to_array2"
   ]
  },
  {
   "cell_type": "code",
   "execution_count": 48,
   "id": "d8d7dbca",
   "metadata": {},
   "outputs": [],
   "source": [
    "unique_to_array2 = list(unique_to_array2)"
   ]
  },
  {
   "cell_type": "code",
   "execution_count": 49,
   "id": "76d7af24",
   "metadata": {},
   "outputs": [],
   "source": [
    "filtered_diaries = exdi[~exdi['ID'].isin(unique_to_array2)]\n"
   ]
  },
  {
   "cell_type": "code",
   "execution_count": 50,
   "id": "74a9c51a",
   "metadata": {},
   "outputs": [
    {
     "data": {
      "text/plain": [
       "67"
      ]
     },
     "execution_count": 50,
     "metadata": {},
     "output_type": "execute_result"
    }
   ],
   "source": [
    "len(filtered_diaries.ID.unique())"
   ]
  },
  {
   "cell_type": "code",
   "execution_count": 51,
   "id": "346fec5c",
   "metadata": {},
   "outputs": [
    {
     "data": {
      "text/plain": [
       "737"
      ]
     },
     "execution_count": 51,
     "metadata": {},
     "output_type": "execute_result"
    }
   ],
   "source": [
    "filtered_diaries.shape[0]"
   ]
  },
  {
   "attachments": {},
   "cell_type": "markdown",
   "id": "b4dd7429",
   "metadata": {},
   "source": []
  }
 ],
 "metadata": {
  "kernelspec": {
   "display_name": "ml_cgm_env_test",
   "language": "python",
   "name": "python3"
  },
  "language_info": {
   "codemirror_mode": {
    "name": "ipython",
    "version": 3
   },
   "file_extension": ".py",
   "mimetype": "text/x-python",
   "name": "python",
   "nbconvert_exporter": "python",
   "pygments_lexer": "ipython3",
   "version": "3.9.7"
  },
  "vscode": {
   "interpreter": {
    "hash": "11957cbc5b69a14c5eed2137b8c383ab027096f0c9ca0d6fd5201f30e0447e4b"
   }
  }
 },
 "nbformat": 4,
 "nbformat_minor": 5
}
