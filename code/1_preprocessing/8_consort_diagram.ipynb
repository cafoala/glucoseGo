{
 "cells": [
  {
   "cell_type": "code",
   "execution_count": 4,
   "metadata": {},
   "outputs": [
    {
     "name": "stderr",
     "output_type": "stream",
     "text": [
      "R[write to console]: Installing package into ‘/usr/local/lib/R/site-library’\n",
      "(as ‘lib’ is unspecified)\n",
      "\n",
      "R[write to console]: Warning in (function (pkgs, lib, repos = getOption(\"repos\"), contriburl = contrib.url(repos,  :\n",
      "R[write to console]: \n",
      " \n",
      "R[write to console]:  'lib = \"/usr/local/lib/R/site-library\"' is not writable\n",
      "\n",
      "R[write to console]: Error in (function (pkgs, lib, repos = getOption(\"repos\"), contriburl = contrib.url(repos,  : \n",
      "  unable to install packages\n",
      "\n",
      "R[write to console]: In addition: \n",
      "R[write to console]: Warning message:\n",
      "\n",
      "R[write to console]: In (function (package, help, pos = 2, lib.loc = NULL, character.only = FALSE,  :\n",
      "R[write to console]: \n",
      " \n",
      "R[write to console]:  libraries ‘/usr/local/lib/R/site-library’, ‘/usr/lib/R/site-library’ contain no packages\n",
      "\n"
     ]
    },
    {
     "ename": "RRuntimeError",
     "evalue": "Error in (function (pkgs, lib, repos = getOption(\"repos\"), contriburl = contrib.url(repos,  : \n  unable to install packages\n",
     "output_type": "error",
     "traceback": [
      "\u001b[0;31m---------------------------------------------------------------------------\u001b[0m",
      "\u001b[0;31mRRuntimeError\u001b[0m                             Traceback (most recent call last)",
      "Cell \u001b[0;32mIn[4], line 10\u001b[0m\n\u001b[1;32m      7\u001b[0m utils\u001b[39m.\u001b[39mchooseCRANmirror(ind\u001b[39m=\u001b[39m\u001b[39m1\u001b[39m)\n\u001b[1;32m      9\u001b[0m \u001b[39m# Install the package\u001b[39;00m\n\u001b[0;32m---> 10\u001b[0m utils\u001b[39m.\u001b[39;49minstall_packages(\u001b[39m'\u001b[39;49m\u001b[39mconsortDiagram\u001b[39;49m\u001b[39m'\u001b[39;49m)\n",
      "File \u001b[0;32m~/miniconda3/envs/hypo_predict_env/lib/python3.9/site-packages/rpy2/robjects/functions.py:208\u001b[0m, in \u001b[0;36mSignatureTranslatedFunction.__call__\u001b[0;34m(self, *args, **kwargs)\u001b[0m\n\u001b[1;32m    206\u001b[0m         v \u001b[39m=\u001b[39m kwargs\u001b[39m.\u001b[39mpop(k)\n\u001b[1;32m    207\u001b[0m         kwargs[r_k] \u001b[39m=\u001b[39m v\n\u001b[0;32m--> 208\u001b[0m \u001b[39mreturn\u001b[39;00m (\u001b[39msuper\u001b[39;49m(SignatureTranslatedFunction, \u001b[39mself\u001b[39;49m)\n\u001b[1;32m    209\u001b[0m         \u001b[39m.\u001b[39;49m\u001b[39m__call__\u001b[39;49m(\u001b[39m*\u001b[39;49margs, \u001b[39m*\u001b[39;49m\u001b[39m*\u001b[39;49mkwargs))\n",
      "File \u001b[0;32m~/miniconda3/envs/hypo_predict_env/lib/python3.9/site-packages/rpy2/robjects/functions.py:131\u001b[0m, in \u001b[0;36mFunction.__call__\u001b[0;34m(self, *args, **kwargs)\u001b[0m\n\u001b[1;32m    129\u001b[0m     \u001b[39melse\u001b[39;00m:\n\u001b[1;32m    130\u001b[0m         new_kwargs[k] \u001b[39m=\u001b[39m cv\u001b[39m.\u001b[39mpy2rpy(v)\n\u001b[0;32m--> 131\u001b[0m res \u001b[39m=\u001b[39m \u001b[39msuper\u001b[39;49m(Function, \u001b[39mself\u001b[39;49m)\u001b[39m.\u001b[39;49m\u001b[39m__call__\u001b[39;49m(\u001b[39m*\u001b[39;49mnew_args, \u001b[39m*\u001b[39;49m\u001b[39m*\u001b[39;49mnew_kwargs)\n\u001b[1;32m    132\u001b[0m res \u001b[39m=\u001b[39m cv\u001b[39m.\u001b[39mrpy2py(res)\n\u001b[1;32m    133\u001b[0m \u001b[39mreturn\u001b[39;00m res\n",
      "File \u001b[0;32m~/miniconda3/envs/hypo_predict_env/lib/python3.9/site-packages/rpy2/rinterface_lib/conversion.py:45\u001b[0m, in \u001b[0;36m_cdata_res_to_rinterface.<locals>._\u001b[0;34m(*args, **kwargs)\u001b[0m\n\u001b[1;32m     44\u001b[0m \u001b[39mdef\u001b[39;00m \u001b[39m_\u001b[39m(\u001b[39m*\u001b[39margs, \u001b[39m*\u001b[39m\u001b[39m*\u001b[39mkwargs):\n\u001b[0;32m---> 45\u001b[0m     cdata \u001b[39m=\u001b[39m function(\u001b[39m*\u001b[39;49margs, \u001b[39m*\u001b[39;49m\u001b[39m*\u001b[39;49mkwargs)\n\u001b[1;32m     46\u001b[0m     \u001b[39m# TODO: test cdata is of the expected CType\u001b[39;00m\n\u001b[1;32m     47\u001b[0m     \u001b[39mreturn\u001b[39;00m _cdata_to_rinterface(cdata)\n",
      "File \u001b[0;32m~/miniconda3/envs/hypo_predict_env/lib/python3.9/site-packages/rpy2/rinterface.py:860\u001b[0m, in \u001b[0;36mSexpClosure.__call__\u001b[0;34m(self, *args, **kwargs)\u001b[0m\n\u001b[1;32m    853\u001b[0m     res \u001b[39m=\u001b[39m rmemory\u001b[39m.\u001b[39mprotect(\n\u001b[1;32m    854\u001b[0m         openrlib\u001b[39m.\u001b[39mrlib\u001b[39m.\u001b[39mR_tryEval(\n\u001b[1;32m    855\u001b[0m             call_r,\n\u001b[1;32m    856\u001b[0m             call_context\u001b[39m.\u001b[39m__sexp__\u001b[39m.\u001b[39m_cdata,\n\u001b[1;32m    857\u001b[0m             error_occured)\n\u001b[1;32m    858\u001b[0m     )\n\u001b[1;32m    859\u001b[0m     \u001b[39mif\u001b[39;00m error_occured[\u001b[39m0\u001b[39m]:\n\u001b[0;32m--> 860\u001b[0m         \u001b[39mraise\u001b[39;00m embedded\u001b[39m.\u001b[39mRRuntimeError(_rinterface\u001b[39m.\u001b[39m_geterrmessage())\n\u001b[1;32m    861\u001b[0m \u001b[39mreturn\u001b[39;00m res\n",
      "\u001b[0;31mRRuntimeError\u001b[0m: Error in (function (pkgs, lib, repos = getOption(\"repos\"), contriburl = contrib.url(repos,  : \n  unable to install packages\n"
     ]
    }
   ],
   "source": [
    "import rpy2.robjects as robjects\n",
    "\n",
    "# R's utility function\n",
    "utils = robjects.packages.importr('utils')\n",
    "\n",
    "# Select a CRAN mirror\n",
    "utils.chooseCRANmirror(ind=1)\n",
    "\n",
    "# Install the package\n",
    "utils.install_packages('consortDiagram')"
   ]
  },
  {
   "cell_type": "code",
   "execution_count": null,
   "metadata": {},
   "outputs": [],
   "source": []
  },
  {
   "cell_type": "code",
   "execution_count": 2,
   "metadata": {},
   "outputs": [
    {
     "ename": "AttributeError",
     "evalue": "module 'rpy2.robjects.packages' has no attribute 'install_packages'",
     "output_type": "error",
     "traceback": [
      "\u001b[0;31m---------------------------------------------------------------------------\u001b[0m",
      "\u001b[0;31mAttributeError\u001b[0m                            Traceback (most recent call last)",
      "Cell \u001b[0;32mIn[2], line 4\u001b[0m\n\u001b[1;32m      2\u001b[0m \u001b[39mimport\u001b[39;00m \u001b[39mrpy2\u001b[39;00m\u001b[39m.\u001b[39;00m\u001b[39mrobjects\u001b[39;00m\u001b[39m.\u001b[39;00m\u001b[39mpackages\u001b[39;00m \u001b[39mas\u001b[39;00m \u001b[39mrpackages\u001b[39;00m\n\u001b[1;32m      3\u001b[0m \u001b[39m# Install the package\u001b[39;00m\n\u001b[0;32m----> 4\u001b[0m rpackages\u001b[39m.\u001b[39;49minstall_packages(\u001b[39m'\u001b[39m\u001b[39mconsortDiagram\u001b[39m\u001b[39m'\u001b[39m)\n\u001b[1;32m      5\u001b[0m \u001b[39m# Initialize R function\u001b[39;00m\n\u001b[1;32m      6\u001b[0m robjects\u001b[39m.\u001b[39mr(\u001b[39m'''\u001b[39m\n\u001b[1;32m      7\u001b[0m \u001b[39m    install.packages(\u001b[39m\u001b[39m\"\u001b[39m\u001b[39mconsortDiagram\u001b[39m\u001b[39m\"\u001b[39m\u001b[39m)\u001b[39m\n\u001b[1;32m      8\u001b[0m \u001b[39m    library(consortDiagram)\u001b[39m\n\u001b[0;32m   (...)\u001b[0m\n\u001b[1;32m     16\u001b[0m \u001b[39m    }\u001b[39m\n\u001b[1;32m     17\u001b[0m \u001b[39m'''\u001b[39m)\n",
      "\u001b[0;31mAttributeError\u001b[0m: module 'rpy2.robjects.packages' has no attribute 'install_packages'"
     ]
    }
   ],
   "source": [
    "import rpy2.robjects as robjects\n",
    "import rpy2.robjects.packages as rpackages\n",
    "# Install the package\n",
    "rpackages.install_packages('consortDiagram')\n",
    "# Initialize R function\n",
    "robjects.r('''\n",
    "    install.packages(\"consortDiagram\")\n",
    "    library(consortDiagram)\n",
    "    create_consort <- function() {\n",
    "        # Your R code to create the consort diagram using consortDiagram package\n",
    "        # For example:\n",
    "        cd <- consortDiagram$new()\n",
    "        cd$add(\"Total\", 1000)\n",
    "        cd$drop(\"Excluded\", 100)\n",
    "        cd$render()\n",
    "    }\n",
    "''')\n",
    "\n",
    "# Call the R function from Python\n",
    "create_consort = robjects.globalenv['create_consort']\n",
    "create_consort()\n"
   ]
  },
  {
   "attachments": {},
   "cell_type": "markdown",
   "metadata": {},
   "source": []
  },
  {
   "attachments": {},
   "cell_type": "markdown",
   "metadata": {},
   "source": []
  },
  {
   "cell_type": "code",
   "execution_count": null,
   "metadata": {},
   "outputs": [],
   "source": []
  }
 ],
 "metadata": {
  "kernelspec": {
   "display_name": "hypo_predict_env",
   "language": "python",
   "name": "python3"
  },
  "language_info": {
   "codemirror_mode": {
    "name": "ipython",
    "version": 3
   },
   "file_extension": ".py",
   "mimetype": "text/x-python",
   "name": "python",
   "nbconvert_exporter": "python",
   "pygments_lexer": "ipython3",
   "version": "3.9.7"
  },
  "orig_nbformat": 4
 },
 "nbformat": 4,
 "nbformat_minor": 2
}
