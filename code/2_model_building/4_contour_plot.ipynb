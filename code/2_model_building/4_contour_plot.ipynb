{
 "cells": [
  {
   "attachments": {},
   "cell_type": "markdown",
   "id": "471306f4-e3e1-4767-a930-1a5f4f891993",
   "metadata": {},
   "source": [
    "# 4. Heatmap (countour plot) of model\n",
    "This notebook focuses on visualizing the predictions of a machine learning model in the form of a heatmap, or contour plot. The objective is to create a heatmap that represents how the model's predicted probability changes across two variables: starting glucose levels and the duration of exercise. Such a visualization can provide valuable insights into how these two factors potentially influence the risk of an outcome, as predicted by the model.\n",
    "\n",
    "Outline:\n",
    "\n",
    "1. Load Packages and Data: In this section, we load the necessary packages and the trained models.\n",
    "2. Create Meshgrid: The meshgrid is a way to generate a 2D grid of coordinates, which we use for our x (starting glucose) and y (duration of exercise) values. This allows us to evaluate the model's predictions across a grid of combinations of starting glucose levels and exercise durations.\n",
    "3. Get Model Predictions: Here, we evaluate the trained models on our grid of data points, obtaining a prediction for each point.\n",
    "4. Reformat Data for Contour Plot: Before plotting, we need to organize the predictions in a way that's compatible with contour plotting.\n",
    "5. Plot Heatmap: Finally, we plot the heatmap (contour plot) using Matplotlib. We visualize the results both in mg/dL and mmol/L units for glucose levels, providing a comprehensive view of how the predicted probabilities vary across different starting glucose concentrations and exercise durations."
   ]
  },
  {
   "attachments": {},
   "cell_type": "markdown",
   "id": "fe713158-caf0-44d1-bfc8-fa6067d4a5fb",
   "metadata": {},
   "source": [
    "## 4.0. Load packages and data"
   ]
  },
  {
   "cell_type": "code",
   "execution_count": 2,
   "id": "582eea87-0f2c-43cf-b2c1-af2ed8bfd5a8",
   "metadata": {},
   "outputs": [
    {
     "name": "stderr",
     "output_type": "stream",
     "text": [
      "/home/cat/miniconda3/envs/hypo_predict_env/lib/python3.9/site-packages/shap/utils/_clustering.py:35: NumbaDeprecationWarning: \u001b[1mThe 'nopython' keyword argument was not supplied to the 'numba.jit' decorator. The implicit default value for this argument is currently False, but it will be changed to True in Numba 0.59.0. See https://numba.readthedocs.io/en/stable/reference/deprecation.html#deprecation-of-object-mode-fall-back-behaviour-when-using-jit for details.\u001b[0m\n",
      "  def _pt_shuffle_rec(i, indexes, index_mask, partition_tree, M, pos):\n",
      "/home/cat/miniconda3/envs/hypo_predict_env/lib/python3.9/site-packages/shap/utils/_clustering.py:54: NumbaDeprecationWarning: \u001b[1mThe 'nopython' keyword argument was not supplied to the 'numba.jit' decorator. The implicit default value for this argument is currently False, but it will be changed to True in Numba 0.59.0. See https://numba.readthedocs.io/en/stable/reference/deprecation.html#deprecation-of-object-mode-fall-back-behaviour-when-using-jit for details.\u001b[0m\n",
      "  def delta_minimization_order(all_masks, max_swap_size=100, num_passes=2):\n",
      "/home/cat/miniconda3/envs/hypo_predict_env/lib/python3.9/site-packages/shap/utils/_clustering.py:63: NumbaDeprecationWarning: \u001b[1mThe 'nopython' keyword argument was not supplied to the 'numba.jit' decorator. The implicit default value for this argument is currently False, but it will be changed to True in Numba 0.59.0. See https://numba.readthedocs.io/en/stable/reference/deprecation.html#deprecation-of-object-mode-fall-back-behaviour-when-using-jit for details.\u001b[0m\n",
      "  def _reverse_window(order, start, length):\n",
      "/home/cat/miniconda3/envs/hypo_predict_env/lib/python3.9/site-packages/shap/utils/_clustering.py:69: NumbaDeprecationWarning: \u001b[1mThe 'nopython' keyword argument was not supplied to the 'numba.jit' decorator. The implicit default value for this argument is currently False, but it will be changed to True in Numba 0.59.0. See https://numba.readthedocs.io/en/stable/reference/deprecation.html#deprecation-of-object-mode-fall-back-behaviour-when-using-jit for details.\u001b[0m\n",
      "  def _reverse_window_score_gain(masks, order, start, length):\n",
      "/home/cat/miniconda3/envs/hypo_predict_env/lib/python3.9/site-packages/shap/utils/_clustering.py:77: NumbaDeprecationWarning: \u001b[1mThe 'nopython' keyword argument was not supplied to the 'numba.jit' decorator. The implicit default value for this argument is currently False, but it will be changed to True in Numba 0.59.0. See https://numba.readthedocs.io/en/stable/reference/deprecation.html#deprecation-of-object-mode-fall-back-behaviour-when-using-jit for details.\u001b[0m\n",
      "  def _mask_delta_score(m1, m2):\n",
      "/home/cat/miniconda3/envs/hypo_predict_env/lib/python3.9/site-packages/shap/utils/_masked_model.py:346: NumbaDeprecationWarning: \u001b[1mThe 'nopython' keyword argument was not supplied to the 'numba.jit' decorator. The implicit default value for this argument is currently False, but it will be changed to True in Numba 0.59.0. See https://numba.readthedocs.io/en/stable/reference/deprecation.html#deprecation-of-object-mode-fall-back-behaviour-when-using-jit for details.\u001b[0m\n",
      "  def _build_fixed_single_output(averaged_outs, last_outs, outputs, batch_positions, varying_rows, num_varying_rows, link):\n",
      "/home/cat/miniconda3/envs/hypo_predict_env/lib/python3.9/site-packages/shap/utils/_masked_model.py:365: NumbaDeprecationWarning: \u001b[1mThe 'nopython' keyword argument was not supplied to the 'numba.jit' decorator. The implicit default value for this argument is currently False, but it will be changed to True in Numba 0.59.0. See https://numba.readthedocs.io/en/stable/reference/deprecation.html#deprecation-of-object-mode-fall-back-behaviour-when-using-jit for details.\u001b[0m\n",
      "  def _build_fixed_multi_output(averaged_outs, last_outs, outputs, batch_positions, varying_rows, num_varying_rows, link):\n",
      "/home/cat/miniconda3/envs/hypo_predict_env/lib/python3.9/site-packages/shap/maskers/_tabular.py:184: NumbaDeprecationWarning: \u001b[1mThe 'nopython' keyword argument was not supplied to the 'numba.jit' decorator. The implicit default value for this argument is currently False, but it will be changed to True in Numba 0.59.0. See https://numba.readthedocs.io/en/stable/reference/deprecation.html#deprecation-of-object-mode-fall-back-behaviour-when-using-jit for details.\u001b[0m\n",
      "  def _single_delta_mask(dind, masked_inputs, last_mask, data, x, noop_code):\n",
      "/home/cat/miniconda3/envs/hypo_predict_env/lib/python3.9/site-packages/shap/maskers/_tabular.py:195: NumbaDeprecationWarning: \u001b[1mThe 'nopython' keyword argument was not supplied to the 'numba.jit' decorator. The implicit default value for this argument is currently False, but it will be changed to True in Numba 0.59.0. See https://numba.readthedocs.io/en/stable/reference/deprecation.html#deprecation-of-object-mode-fall-back-behaviour-when-using-jit for details.\u001b[0m\n",
      "  def _delta_masking(masks, x, curr_delta_inds, varying_rows_out,\n",
      "/home/cat/miniconda3/envs/hypo_predict_env/lib/python3.9/site-packages/shap/links.py:5: NumbaDeprecationWarning: \u001b[1mThe 'nopython' keyword argument was not supplied to the 'numba.jit' decorator. The implicit default value for this argument is currently False, but it will be changed to True in Numba 0.59.0. See https://numba.readthedocs.io/en/stable/reference/deprecation.html#deprecation-of-object-mode-fall-back-behaviour-when-using-jit for details.\u001b[0m\n",
      "  def identity(x):\n",
      "/home/cat/miniconda3/envs/hypo_predict_env/lib/python3.9/site-packages/shap/links.py:10: NumbaDeprecationWarning: \u001b[1mThe 'nopython' keyword argument was not supplied to the 'numba.jit' decorator. The implicit default value for this argument is currently False, but it will be changed to True in Numba 0.59.0. See https://numba.readthedocs.io/en/stable/reference/deprecation.html#deprecation-of-object-mode-fall-back-behaviour-when-using-jit for details.\u001b[0m\n",
      "  def _identity_inverse(x):\n",
      "/home/cat/miniconda3/envs/hypo_predict_env/lib/python3.9/site-packages/shap/links.py:15: NumbaDeprecationWarning: \u001b[1mThe 'nopython' keyword argument was not supplied to the 'numba.jit' decorator. The implicit default value for this argument is currently False, but it will be changed to True in Numba 0.59.0. See https://numba.readthedocs.io/en/stable/reference/deprecation.html#deprecation-of-object-mode-fall-back-behaviour-when-using-jit for details.\u001b[0m\n",
      "  def logit(x):\n",
      "/home/cat/miniconda3/envs/hypo_predict_env/lib/python3.9/site-packages/shap/links.py:20: NumbaDeprecationWarning: \u001b[1mThe 'nopython' keyword argument was not supplied to the 'numba.jit' decorator. The implicit default value for this argument is currently False, but it will be changed to True in Numba 0.59.0. See https://numba.readthedocs.io/en/stable/reference/deprecation.html#deprecation-of-object-mode-fall-back-behaviour-when-using-jit for details.\u001b[0m\n",
      "  def _logit_inverse(x):\n",
      "\u001b[1mThe 'nopython' keyword argument was not supplied to the 'numba.jit' decorator. The implicit default value for this argument is currently False, but it will be changed to True in Numba 0.59.0. See https://numba.readthedocs.io/en/stable/reference/deprecation.html#deprecation-of-object-mode-fall-back-behaviour-when-using-jit for details.\u001b[0m\n",
      "\u001b[1mThe 'nopython' keyword argument was not supplied to the 'numba.jit' decorator. The implicit default value for this argument is currently False, but it will be changed to True in Numba 0.59.0. See https://numba.readthedocs.io/en/stable/reference/deprecation.html#deprecation-of-object-mode-fall-back-behaviour-when-using-jit for details.\u001b[0m\n"
     ]
    }
   ],
   "source": [
    "import matplotlib.pyplot as plt\n",
    "from matplotlib import colors, gridspec\n",
    "from scipy.ndimage import gaussian_filter\n",
    "import numpy as np\n",
    "import pandas as pd\n",
    "import pickle\n",
    "import ml_helper as ml_help\n",
    "import os"
   ]
  },
  {
   "cell_type": "code",
   "execution_count": 3,
   "id": "bd0699f2",
   "metadata": {},
   "outputs": [],
   "source": [
    "def unpickle(i):\n",
    "    with open(i, \"rb\") as fp:   \n",
    "        #Unpickling \n",
    "        return pickle.load(fp)"
   ]
  },
  {
   "cell_type": "code",
   "execution_count": 4,
   "id": "2765d67b",
   "metadata": {},
   "outputs": [],
   "source": [
    "directory = '../../results/models/xgb/two/'\n",
    "models = []\n",
    "for i in os.listdir(directory):\n",
    "    models.append(unpickle(directory+i))"
   ]
  },
  {
   "attachments": {},
   "cell_type": "markdown",
   "id": "f56a120b-6495-4fd6-9794-c55a1e3b857f",
   "metadata": {},
   "source": [
    "## 4.1. Create meshgrid"
   ]
  },
  {
   "cell_type": "code",
   "execution_count": 5,
   "id": "79edbf34",
   "metadata": {},
   "outputs": [],
   "source": [
    "# 10 points between 4-14mmol/L\n",
    "x1 = np.linspace(4,14,10)\n",
    "\n",
    "# 10 points between 10-120 mins\n",
    "x2 = np.linspace(10,120,10)"
   ]
  },
  {
   "cell_type": "code",
   "execution_count": 6,
   "id": "41e89715-2245-457d-88f8-f588e03fb9da",
   "metadata": {},
   "outputs": [],
   "source": [
    "# Create lists with the meshgrid points\n",
    "start_glc = []\n",
    "duration = []\n",
    "for i in x1:\n",
    "    for j in x2:\n",
    "        start_glc.append(i)\n",
    "        duration.append(j)"
   ]
  },
  {
   "cell_type": "code",
   "execution_count": 7,
   "id": "0db300ff-9178-40c3-9ce5-1d3f0f6b098a",
   "metadata": {},
   "outputs": [],
   "source": [
    "# Convert to dataframe\n",
    "test_df = pd.DataFrame()\n",
    "test_df['Starting glucose'] = start_glc\n",
    "test_df['Duration'] = duration"
   ]
  },
  {
   "attachments": {},
   "cell_type": "markdown",
   "id": "9e7b0b6d-8734-4938-bca3-50752f776f63",
   "metadata": {},
   "source": [
    "## 4.2. Get model predictions"
   ]
  },
  {
   "cell_type": "code",
   "execution_count": 8,
   "id": "b96793f8-9d4a-40c7-bc1c-7ee638ca1af2",
   "metadata": {},
   "outputs": [],
   "source": [
    "# Empty list for predictions\n",
    "predictions = []\n",
    "for model in models:\n",
    "    y = model.predict_proba(test_df)\n",
    "    y = y[:, 1].flatten()\n",
    "    predictions.append(y)"
   ]
  },
  {
   "cell_type": "code",
   "execution_count": 9,
   "id": "32b4e76b",
   "metadata": {},
   "outputs": [],
   "source": [
    "# Take the mean of the 10 model's predictions \n",
    "y = np.mean(predictions, axis=0)"
   ]
  },
  {
   "attachments": {},
   "cell_type": "markdown",
   "id": "6a9db38b-7caa-44b7-8cd0-4b9fc2ab040e",
   "metadata": {},
   "source": [
    "## 4.3. Reformat data and results for contour plot"
   ]
  },
  {
   "cell_type": "code",
   "execution_count": 10,
   "id": "7e4509cd",
   "metadata": {},
   "outputs": [],
   "source": [
    "# Create mmol meshgrid\n",
    "x1_mmol = x1\n",
    "x1_grid_mmol, x2_grid_mmol = np.meshgrid(x1_mmol, x2)\n",
    "\n",
    "# Reshape\n",
    "y_grid_hypo_mmol = np.reshape(y, x1_grid_mmol.shape)"
   ]
  },
  {
   "cell_type": "code",
   "execution_count": 11,
   "id": "1c37b91d-6033-4f38-83a8-0be4ea596595",
   "metadata": {},
   "outputs": [],
   "source": [
    "# Create mg meshgrid\n",
    "x1_mg = x1*18\n",
    "x1_grid, x2_grid = np.meshgrid(x1_mg, x2)\n",
    "\n",
    "# Reshape\n",
    "y_grid_hypo = np.reshape(y, x1_grid.shape)"
   ]
  },
  {
   "attachments": {},
   "cell_type": "markdown",
   "id": "7047d8af-e63f-49dd-87a3-906c32d26412",
   "metadata": {},
   "source": [
    "## 4.4. Plot heatmap"
   ]
  },
  {
   "cell_type": "code",
   "execution_count": 12,
   "id": "afe671e6",
   "metadata": {},
   "outputs": [],
   "source": [
    "# Convert to percentage risk\n",
    "y_grid_hypo = y_grid_hypo*100"
   ]
  },
  {
   "attachments": {},
   "cell_type": "markdown",
   "id": "4471647c",
   "metadata": {},
   "source": [
    "### 4.4.1. Twin axis with mg/dL on the bottom"
   ]
  },
  {
   "cell_type": "code",
   "execution_count": 13,
   "id": "113cc8e0",
   "metadata": {},
   "outputs": [
    {
     "data": {
      "image/png": "[encoded data removed]",
      "text/plain": [
       "<Figure size 864x576 with 3 Axes>"
      ]
     },
     "metadata": {
      "needs_background": "light"
     },
     "output_type": "display_data"
    }
   ],
   "source": [
    "# Create fig with subplots\n",
    "fig_hypo = plt.figure(figsize=(12, 8))\n",
    "\n",
    "ax1 = plt.subplot()\n",
    "\n",
    "\n",
    "cmap = colors.ListedColormap(['green', 'orange', 'red'])\n",
    "bounds = [0, 5, 20, 100]\n",
    "\n",
    "norm = colors.BoundaryNorm(bounds, cmap.N)\n",
    "\n",
    "# Apply Gaussian filter to y_grid_hypo\n",
    "smoothed_y_grid_hypo = gaussian_filter(y_grid_hypo.T, sigma=1)\n",
    "\n",
    "# Replace contourf with imshow\n",
    "img = ax1.imshow(smoothed_y_grid_hypo, extent=[x1_grid.min(), x1_grid.max(), x2_grid.min(), x2_grid.max()],\n",
    "                origin='lower', cmap=cmap, norm=norm, aspect='auto', interpolation='bicubic', ) #\n",
    "\n",
    "ax1.set_xlabel('Starting glucose (mg/dL)')\n",
    "ax1.set_ylabel('Duration of exercise (mins)')\n",
    "ax1.set_yticks(np.arange(10, 130, 10))\n",
    "ax1.set_xticks(np.arange(80, 260, 20))\n",
    "\n",
    "# Create twin x-axis at the top\n",
    "ax2 = ax1.twiny()\n",
    "new_tick_locations = np.arange(80, 260, 20)\n",
    "ax2.set_xlim(ax1.get_xlim())\n",
    "ax2.set_xticks(new_tick_locations)\n",
    "ax2.set_xticklabels([f\"{x:.1f}\" for x in (new_tick_locations / 18)])#.astype(int))\n",
    "ax2.set_xlabel('Starting glucose (mmol/L)')\n",
    "\n",
    "# Add a colorbar\n",
    "cbar = fig_hypo.colorbar(img, ticks=[bounds[1]/2, bounds[1]+(bounds[2]-bounds[1])/2, bounds[3]/2])  # Set the ticks manually bounds[2]/2\n",
    "\n",
    "# Setting tick labels and colorbar description\n",
    "cbar.ax.set_yticklabels([f'<{bounds[1]}%', f'{bounds[1]}-{bounds[2]}%', f'>{bounds[2]}%'])\n",
    "\n",
    "ax1.grid()\n",
    "\n",
    "fig_hypo.savefig('../../results/figs/fig_3.pdf')"
   ]
  },
  {
   "attachments": {},
   "cell_type": "markdown",
   "id": "7cf27a1a",
   "metadata": {},
   "source": [
    "### 4.4.2. Twin axis with mmol/L on the bottom"
   ]
  },
  {
   "cell_type": "code",
   "execution_count": 16,
   "id": "eb86a9d8",
   "metadata": {},
   "outputs": [
    {
     "data": {
      "image/png": "[encoded data removed]",
      "text/plain": [
       "<Figure size 504x360 with 3 Axes>"
      ]
     },
     "metadata": {
      "needs_background": "light"
     },
     "output_type": "display_data"
    }
   ],
   "source": [
    "# Create fig with subplots\n",
    "fig_hypo = plt.figure(figsize=(7, 5))\n",
    "\n",
    "ax1 = plt.subplot()\n",
    "\n",
    "\n",
    "cmap = colors.ListedColormap(['green', 'orange', 'red'])\n",
    "bounds = [0, 5, 20, 100]\n",
    "\n",
    "norm = colors.BoundaryNorm(bounds, cmap.N)\n",
    "\n",
    "# Apply Gaussian filter to y_grid_hypo\n",
    "smoothed_y_grid_hypo = gaussian_filter(y_grid_hypo.T, sigma=1)\n",
    "\n",
    "# Replace contourf with imshow\n",
    "img = ax1.imshow(smoothed_y_grid_hypo, extent=[x1_grid_mmol.min(), x1_grid_mmol.max(), x2_grid_mmol.min(), x2_grid_mmol.max()],\n",
    "                 origin='lower', cmap=cmap, norm=norm, aspect='auto', interpolation='bicubic')\n",
    "\n",
    "ax1.set_xlabel('Starting glucose (mmol/L)')\n",
    "ax1.set_ylabel('Duration of exercise (mins)')\n",
    "ax1.set_yticks(np.arange(10, 130, 10))\n",
    "ax1.set_xticks(np.arange(4, 15, 1))\n",
    "\n",
    "# Create twin x-axis at the top\n",
    "ax2 = ax1.twiny()\n",
    "new_tick_locations = np.arange(4, 15, 1)\n",
    "ax2.set_xlim(ax1.get_xlim())\n",
    "ax2.set_xticks(new_tick_locations)\n",
    "ax2.set_xticklabels(new_tick_locations * 18)#.astype(int))\n",
    "ax2.set_xlabel('Starting glucose (mg/dL)')\n",
    "\n",
    "# Add a colorbar\n",
    "cbar = fig_hypo.colorbar(img, ticks=[bounds[1]/2, bounds[1]+(bounds[2]-bounds[1])/2, bounds[3]/2])  # Set the ticks manually bounds[2]/2\n",
    "\n",
    "# Setting tick labels and colorbar description\n",
    "cbar.ax.set_yticklabels([f'<{bounds[1]}%', f'{bounds[1]}-{bounds[2]}%', f'>{bounds[2]}%'])\n",
    "\n",
    "# Set the title for the colorbar\n",
    "#cbar.set_label('Risk of hypoglycemia', rotation=270, labelpad=20)\n",
    "\n",
    "ax1.grid()\n",
    "\n",
    "fig_hypo.savefig('../../results/figs/fig_3.pdf')"
   ]
  },
  {
   "attachments": {},
   "cell_type": "markdown",
   "id": "6f81ea48",
   "metadata": {},
   "source": [
    "### 4.4.3. Next to each other"
   ]
  },
  {
   "cell_type": "code",
   "execution_count": 14,
   "id": "328c7c5c",
   "metadata": {},
   "outputs": [
    {
     "data": {
      "image/png": "[encoded data removed]",
      "text/plain": [
       "<Figure size 1296x504 with 3 Axes>"
      ]
     },
     "metadata": {
      "needs_background": "light"
     },
     "output_type": "display_data"
    }
   ],
   "source": [
    "fig_hypo = plt.figure(figsize=(18, 7))\n",
    "\n",
    "gs = gridspec.GridSpec(1, 3, width_ratios=[1, 1, 0.05])\n",
    "ax1 = plt.subplot(gs[0])\n",
    "ax2 = plt.subplot(gs[1])\n",
    "cax = plt.subplot(gs[2])\n",
    "\n",
    "cmap = colors.ListedColormap(['green', 'orange', 'red'])\n",
    "bounds = [0, 5, 20, 100]\n",
    "norm = colors.BoundaryNorm(bounds, cmap.N)\n",
    "\n",
    "# Gaussian filter to y_grid_hypo\n",
    "smoothed_y_grid_hypo = gaussian_filter(y_grid_hypo.T, sigma=1)\n",
    "\n",
    "# Image display\n",
    "img1 = ax1.imshow(smoothed_y_grid_hypo, extent=[x1_grid.min(), x1_grid.max(), x2_grid.min(), x2_grid.max()],\n",
    "                 origin='lower', cmap=cmap, norm=norm, aspect='auto', interpolation='bicubic')\n",
    "img2 = ax2.imshow(smoothed_y_grid_hypo, extent=[x1_grid_mmol.min(), x1_grid_mmol.max(), x2_grid_mmol.min(), x2_grid_mmol.max()],\n",
    "                 origin='lower', cmap=cmap, norm=norm, aspect='auto', interpolation='bicubic')\n",
    "\n",
    "ax1.set_xlabel('Starting glucose (mg/dL)')\n",
    "ax1.set_ylabel('Duration of exercise (mins)')\n",
    "ax1.set_yticks(np.arange(10, 130, 10))\n",
    "ax1.set_xticks(np.arange(80, 260, 20))\n",
    "\n",
    "ax2.set_xlabel('Starting glucose (mmol/L)')\n",
    "ax2.set_ylabel('Duration of exercise (mins)')\n",
    "ax2.set_yticks(np.arange(10, 130, 10))\n",
    "ax2.set_xticks(np.arange(4, 15, 1))\n",
    "\n",
    "# Add colorbar\n",
    "cbar = fig_hypo.colorbar(img1, cax=cax, ticks=[bounds[1]/2, bounds[1]+(bounds[2]-bounds[1])/2, bounds[3]/2])\n",
    "cbar.ax.set_yticklabels([f'<{bounds[1]}%', f'{bounds[1]}-{bounds[2]}%', f'>{bounds[2]}%'])\n",
    "\n",
    "ax1.grid()\n",
    "ax2.grid()\n",
    "\n",
    "plt.show()\n"
   ]
  }
 ],
 "metadata": {
  "kernelspec": {
   "display_name": "ml_cgm_env_test",
   "language": "python",
   "name": "python3"
  },
  "language_info": {
   "codemirror_mode": {
    "name": "ipython",
    "version": 3
   },
   "file_extension": ".py",
   "mimetype": "text/x-python",
   "name": "python",
   "nbconvert_exporter": "python",
   "pygments_lexer": "ipython3",
   "version": "3.9.7"
  },
  "vscode": {
   "interpreter": {
    "hash": "11957cbc5b69a14c5eed2137b8c383ab027096f0c9ca0d6fd5201f30e0447e4b"
   }
  }
 },
 "nbformat": 4,
 "nbformat_minor": 5
}
